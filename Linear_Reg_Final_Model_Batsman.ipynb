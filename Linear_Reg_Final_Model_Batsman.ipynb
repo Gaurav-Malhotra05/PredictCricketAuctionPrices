{
 "cells": [
  {
   "cell_type": "code",
   "execution_count": 456,
   "metadata": {},
   "outputs": [],
   "source": [
    "import numpy as np\n",
    "import pandas as pd\n",
    "from sklearn.model_selection import train_test_split\n",
    "from sklearn.linear_model import LinearRegression\n",
    "import random"
   ]
  },
  {
   "cell_type": "code",
   "execution_count": 468,
   "metadata": {},
   "outputs": [],
   "source": [
    "def LinearRegressor(table, random):\n",
    "    X = table.iloc[:, :-1]\n",
    "    y = table.iloc[:, -1]\n",
    "    \n",
    "    x_train, x_test, y_train, y_test = train_test_split(X, y, test_size = 0.35, random_state = random)\n",
    "    \n",
    "    model = LinearRegression()\n",
    "    model.fit(x_train,y_train)\n",
    "    r_sq = model.score(x_test, y_test)\n",
    "    \n",
    "    y_pred = model.predict(X)\n",
    "    \n",
    "# #     print('intercept:', model.intercept_)\n",
    "   # print('R2_Score:', r_sq)\n",
    "# #    print('slope:', model.coef_)  \n",
    "    return model, model.coef_, r_sq"
   ]
  },
  {
   "cell_type": "code",
   "execution_count": 293,
   "metadata": {},
   "outputs": [],
   "source": [
    "Batsman_Table = pd.read_excel('Squared_Batsman.xlsx')"
   ]
  },
  {
   "cell_type": "code",
   "execution_count": 4,
   "metadata": {},
   "outputs": [],
   "source": [
    "Bowler_Table = pd.read_excel('2013-2018_Bowler_table.xlsx')"
   ]
  },
  {
   "cell_type": "code",
   "execution_count": 5,
   "metadata": {},
   "outputs": [],
   "source": [
    "AllRounder_Table = pd.read_excel('2013-2018_AllRounder_table.xlsx')"
   ]
  },
  {
   "cell_type": "code",
   "execution_count": 296,
   "metadata": {},
   "outputs": [],
   "source": [
    "Batsman_Table.drop(Batsman_Table.columns[:5], axis = 1, inplace = True)"
   ]
  },
  {
   "cell_type": "code",
   "execution_count": 297,
   "metadata": {},
   "outputs": [],
   "source": [
    "def clean_dataset(df):\n",
    "    assert isinstance(df, pd.DataFrame), \"df needs to be a pd.DataFrame\"\n",
    "    df.dropna(inplace=True)\n",
    "    indices_to_keep = ~df.isin([np.nan, np.inf, -np.inf]).any(1)\n",
    "    return df[indices_to_keep].astype(float)"
   ]
  },
  {
   "cell_type": "code",
   "execution_count": 298,
   "metadata": {},
   "outputs": [],
   "source": [
    "Batsman_Table = clean_dataset(Batsman_Table)"
   ]
  },
  {
   "cell_type": "code",
   "execution_count": 299,
   "metadata": {},
   "outputs": [
    {
     "data": {
      "text/html": [
       "<div>\n",
       "<style scoped>\n",
       "    .dataframe tbody tr th:only-of-type {\n",
       "        vertical-align: middle;\n",
       "    }\n",
       "\n",
       "    .dataframe tbody tr th {\n",
       "        vertical-align: top;\n",
       "    }\n",
       "\n",
       "    .dataframe thead th {\n",
       "        text-align: right;\n",
       "    }\n",
       "</style>\n",
       "<table border=\"1\" class=\"dataframe\">\n",
       "  <thead>\n",
       "    <tr style=\"text-align: right;\">\n",
       "      <th></th>\n",
       "      <th>Year+1 Age</th>\n",
       "      <th>Year+1 Matches</th>\n",
       "      <th>Year+1 Innings</th>\n",
       "      <th>Year+1 Not Outs</th>\n",
       "      <th>Year+1 Runs</th>\n",
       "      <th>Year+1 Batting Avg</th>\n",
       "      <th>Year+1 Batting Strike Rate</th>\n",
       "      <th>Year+1 Highest Score</th>\n",
       "      <th>Year+1 Total 4s</th>\n",
       "      <th>Year+1 Total 6s</th>\n",
       "      <th>...</th>\n",
       "      <th>Year Total 6s ** 2</th>\n",
       "      <th>Year Total 50s ** 2</th>\n",
       "      <th>Year Total 100s ** 2</th>\n",
       "      <th>Year Batting Avg Death ** 2</th>\n",
       "      <th>Year Batting Strike Rate Death ** 2</th>\n",
       "      <th>Year Batting Avg PowerPlay ** 2</th>\n",
       "      <th>Year Batting Strike Rate PowerPlay ** 2</th>\n",
       "      <th>Year Batting Avg T20I ** 2</th>\n",
       "      <th>Year Batting Strike Rate T20I ** 2</th>\n",
       "      <th>IPL Pts per Match Year+2</th>\n",
       "    </tr>\n",
       "  </thead>\n",
       "  <tbody>\n",
       "    <tr>\n",
       "      <th>0</th>\n",
       "      <td>29.0</td>\n",
       "      <td>14.0</td>\n",
       "      <td>13.0</td>\n",
       "      <td>0.153846</td>\n",
       "      <td>30.384615</td>\n",
       "      <td>35.90</td>\n",
       "      <td>158.63</td>\n",
       "      <td>89.0</td>\n",
       "      <td>2.000000</td>\n",
       "      <td>1.846154</td>\n",
       "      <td>...</td>\n",
       "      <td>225.0</td>\n",
       "      <td>4.0</td>\n",
       "      <td>0.0</td>\n",
       "      <td>1383.840000</td>\n",
       "      <td>52729.936900</td>\n",
       "      <td>196.0000</td>\n",
       "      <td>54442.8889</td>\n",
       "      <td>289.000000</td>\n",
       "      <td>14745.244900</td>\n",
       "      <td>15.437500</td>\n",
       "    </tr>\n",
       "    <tr>\n",
       "      <th>1</th>\n",
       "      <td>30.0</td>\n",
       "      <td>16.0</td>\n",
       "      <td>14.0</td>\n",
       "      <td>0.214286</td>\n",
       "      <td>36.642857</td>\n",
       "      <td>46.63</td>\n",
       "      <td>175.08</td>\n",
       "      <td>133.0</td>\n",
       "      <td>4.285714</td>\n",
       "      <td>1.571429</td>\n",
       "      <td>...</td>\n",
       "      <td>576.0</td>\n",
       "      <td>9.0</td>\n",
       "      <td>0.0</td>\n",
       "      <td>721.459600</td>\n",
       "      <td>42679.428100</td>\n",
       "      <td>289.0000</td>\n",
       "      <td>12843.6889</td>\n",
       "      <td>784.000000</td>\n",
       "      <td>23669.822500</td>\n",
       "      <td>19.968750</td>\n",
       "    </tr>\n",
       "    <tr>\n",
       "      <th>2</th>\n",
       "      <td>31.0</td>\n",
       "      <td>16.0</td>\n",
       "      <td>16.0</td>\n",
       "      <td>0.187500</td>\n",
       "      <td>42.937500</td>\n",
       "      <td>52.84</td>\n",
       "      <td>168.79</td>\n",
       "      <td>129.0</td>\n",
       "      <td>3.562500</td>\n",
       "      <td>2.312500</td>\n",
       "      <td>...</td>\n",
       "      <td>484.0</td>\n",
       "      <td>4.0</td>\n",
       "      <td>1.0</td>\n",
       "      <td>17424.000000</td>\n",
       "      <td>48400.000000</td>\n",
       "      <td>441.0000</td>\n",
       "      <td>12544.0000</td>\n",
       "      <td>522.579600</td>\n",
       "      <td>15383.440900</td>\n",
       "      <td>11.222222</td>\n",
       "    </tr>\n",
       "    <tr>\n",
       "      <th>3</th>\n",
       "      <td>32.0</td>\n",
       "      <td>9.0</td>\n",
       "      <td>9.0</td>\n",
       "      <td>0.111111</td>\n",
       "      <td>24.000000</td>\n",
       "      <td>27.00</td>\n",
       "      <td>132.51</td>\n",
       "      <td>89.0</td>\n",
       "      <td>1.333333</td>\n",
       "      <td>1.777778</td>\n",
       "      <td>...</td>\n",
       "      <td>1369.0</td>\n",
       "      <td>36.0</td>\n",
       "      <td>1.0</td>\n",
       "      <td>2601.000000</td>\n",
       "      <td>52148.289600</td>\n",
       "      <td>20449.0000</td>\n",
       "      <td>20449.0000</td>\n",
       "      <td>824.264100</td>\n",
       "      <td>30025.958400</td>\n",
       "      <td>18.125000</td>\n",
       "    </tr>\n",
       "    <tr>\n",
       "      <th>6</th>\n",
       "      <td>27.0</td>\n",
       "      <td>13.0</td>\n",
       "      <td>13.0</td>\n",
       "      <td>0.153846</td>\n",
       "      <td>23.769231</td>\n",
       "      <td>28.09</td>\n",
       "      <td>117.49</td>\n",
       "      <td>88.0</td>\n",
       "      <td>2.384615</td>\n",
       "      <td>0.692308</td>\n",
       "      <td>...</td>\n",
       "      <td>256.0</td>\n",
       "      <td>16.0</td>\n",
       "      <td>0.0</td>\n",
       "      <td>4.000000</td>\n",
       "      <td>1600.000000</td>\n",
       "      <td>1156.0000</td>\n",
       "      <td>16197.6529</td>\n",
       "      <td>1907.068900</td>\n",
       "      <td>35528.480100</td>\n",
       "      <td>3.333333</td>\n",
       "    </tr>\n",
       "    <tr>\n",
       "      <th>...</th>\n",
       "      <td>...</td>\n",
       "      <td>...</td>\n",
       "      <td>...</td>\n",
       "      <td>...</td>\n",
       "      <td>...</td>\n",
       "      <td>...</td>\n",
       "      <td>...</td>\n",
       "      <td>...</td>\n",
       "      <td>...</td>\n",
       "      <td>...</td>\n",
       "      <td>...</td>\n",
       "      <td>...</td>\n",
       "      <td>...</td>\n",
       "      <td>...</td>\n",
       "      <td>...</td>\n",
       "      <td>...</td>\n",
       "      <td>...</td>\n",
       "      <td>...</td>\n",
       "      <td>...</td>\n",
       "      <td>...</td>\n",
       "      <td>...</td>\n",
       "    </tr>\n",
       "    <tr>\n",
       "      <th>171</th>\n",
       "      <td>35.0</td>\n",
       "      <td>17.0</td>\n",
       "      <td>17.0</td>\n",
       "      <td>0.000000</td>\n",
       "      <td>26.764706</td>\n",
       "      <td>26.76</td>\n",
       "      <td>144.44</td>\n",
       "      <td>122.0</td>\n",
       "      <td>3.294118</td>\n",
       "      <td>1.058824</td>\n",
       "      <td>...</td>\n",
       "      <td>36.0</td>\n",
       "      <td>1.0</td>\n",
       "      <td>0.0</td>\n",
       "      <td>121.000000</td>\n",
       "      <td>33609.888900</td>\n",
       "      <td>1013.1489</td>\n",
       "      <td>13238.8036</td>\n",
       "      <td>583.259654</td>\n",
       "      <td>17064.397870</td>\n",
       "      <td>5.062500</td>\n",
       "    </tr>\n",
       "    <tr>\n",
       "      <th>172</th>\n",
       "      <td>29.0</td>\n",
       "      <td>17.0</td>\n",
       "      <td>13.0</td>\n",
       "      <td>0.153846</td>\n",
       "      <td>27.846154</td>\n",
       "      <td>32.90</td>\n",
       "      <td>145.38</td>\n",
       "      <td>115.0</td>\n",
       "      <td>2.538462</td>\n",
       "      <td>1.384615</td>\n",
       "      <td>...</td>\n",
       "      <td>16.0</td>\n",
       "      <td>0.0</td>\n",
       "      <td>0.0</td>\n",
       "      <td>293.783832</td>\n",
       "      <td>16191.054387</td>\n",
       "      <td>812.2500</td>\n",
       "      <td>16045.2889</td>\n",
       "      <td>583.259654</td>\n",
       "      <td>17064.397870</td>\n",
       "      <td>7.857143</td>\n",
       "    </tr>\n",
       "    <tr>\n",
       "      <th>173</th>\n",
       "      <td>30.0</td>\n",
       "      <td>14.0</td>\n",
       "      <td>13.0</td>\n",
       "      <td>0.000000</td>\n",
       "      <td>19.153846</td>\n",
       "      <td>19.15</td>\n",
       "      <td>126.39</td>\n",
       "      <td>42.0</td>\n",
       "      <td>1.230769</td>\n",
       "      <td>0.769231</td>\n",
       "      <td>...</td>\n",
       "      <td>324.0</td>\n",
       "      <td>4.0</td>\n",
       "      <td>1.0</td>\n",
       "      <td>900.000000</td>\n",
       "      <td>41840.702500</td>\n",
       "      <td>729.0000</td>\n",
       "      <td>16931.2144</td>\n",
       "      <td>543.245106</td>\n",
       "      <td>11561.523220</td>\n",
       "      <td>8.416667</td>\n",
       "    </tr>\n",
       "    <tr>\n",
       "      <th>174</th>\n",
       "      <td>31.0</td>\n",
       "      <td>12.0</td>\n",
       "      <td>12.0</td>\n",
       "      <td>0.083333</td>\n",
       "      <td>22.500000</td>\n",
       "      <td>24.54</td>\n",
       "      <td>127.35</td>\n",
       "      <td>56.0</td>\n",
       "      <td>2.416667</td>\n",
       "      <td>0.083333</td>\n",
       "      <td>...</td>\n",
       "      <td>100.0</td>\n",
       "      <td>0.0</td>\n",
       "      <td>0.0</td>\n",
       "      <td>169.000000</td>\n",
       "      <td>21824.152900</td>\n",
       "      <td>240.2500</td>\n",
       "      <td>17651.7796</td>\n",
       "      <td>665.872220</td>\n",
       "      <td>12127.570688</td>\n",
       "      <td>7.714286</td>\n",
       "    </tr>\n",
       "    <tr>\n",
       "      <th>175</th>\n",
       "      <td>32.0</td>\n",
       "      <td>14.0</td>\n",
       "      <td>11.0</td>\n",
       "      <td>0.090909</td>\n",
       "      <td>21.272727</td>\n",
       "      <td>23.40</td>\n",
       "      <td>125.13</td>\n",
       "      <td>93.0</td>\n",
       "      <td>1.818182</td>\n",
       "      <td>0.727273</td>\n",
       "      <td>...</td>\n",
       "      <td>1.0</td>\n",
       "      <td>4.0</td>\n",
       "      <td>0.0</td>\n",
       "      <td>280.562500</td>\n",
       "      <td>21213.922500</td>\n",
       "      <td>3136.0000</td>\n",
       "      <td>25600.0000</td>\n",
       "      <td>593.710251</td>\n",
       "      <td>14323.455183</td>\n",
       "      <td>5.545455</td>\n",
       "    </tr>\n",
       "  </tbody>\n",
       "</table>\n",
       "<p>123 rows × 80 columns</p>\n",
       "</div>"
      ],
      "text/plain": [
       "     Year+1 Age  Year+1 Matches  Year+1 Innings  Year+1 Not Outs  Year+1 Runs  \\\n",
       "0          29.0            14.0            13.0         0.153846    30.384615   \n",
       "1          30.0            16.0            14.0         0.214286    36.642857   \n",
       "2          31.0            16.0            16.0         0.187500    42.937500   \n",
       "3          32.0             9.0             9.0         0.111111    24.000000   \n",
       "6          27.0            13.0            13.0         0.153846    23.769231   \n",
       "..          ...             ...             ...              ...          ...   \n",
       "171        35.0            17.0            17.0         0.000000    26.764706   \n",
       "172        29.0            17.0            13.0         0.153846    27.846154   \n",
       "173        30.0            14.0            13.0         0.000000    19.153846   \n",
       "174        31.0            12.0            12.0         0.083333    22.500000   \n",
       "175        32.0            14.0            11.0         0.090909    21.272727   \n",
       "\n",
       "     Year+1 Batting Avg  Year+1 Batting Strike Rate  Year+1 Highest Score  \\\n",
       "0                 35.90                      158.63                  89.0   \n",
       "1                 46.63                      175.08                 133.0   \n",
       "2                 52.84                      168.79                 129.0   \n",
       "3                 27.00                      132.51                  89.0   \n",
       "6                 28.09                      117.49                  88.0   \n",
       "..                  ...                         ...                   ...   \n",
       "171               26.76                      144.44                 122.0   \n",
       "172               32.90                      145.38                 115.0   \n",
       "173               19.15                      126.39                  42.0   \n",
       "174               24.54                      127.35                  56.0   \n",
       "175               23.40                      125.13                  93.0   \n",
       "\n",
       "     Year+1 Total 4s  Year+1 Total 6s  ...  Year Total 6s ** 2  \\\n",
       "0           2.000000         1.846154  ...               225.0   \n",
       "1           4.285714         1.571429  ...               576.0   \n",
       "2           3.562500         2.312500  ...               484.0   \n",
       "3           1.333333         1.777778  ...              1369.0   \n",
       "6           2.384615         0.692308  ...               256.0   \n",
       "..               ...              ...  ...                 ...   \n",
       "171         3.294118         1.058824  ...                36.0   \n",
       "172         2.538462         1.384615  ...                16.0   \n",
       "173         1.230769         0.769231  ...               324.0   \n",
       "174         2.416667         0.083333  ...               100.0   \n",
       "175         1.818182         0.727273  ...                 1.0   \n",
       "\n",
       "     Year Total 50s ** 2  Year Total 100s ** 2  Year Batting Avg Death ** 2  \\\n",
       "0                    4.0                   0.0                  1383.840000   \n",
       "1                    9.0                   0.0                   721.459600   \n",
       "2                    4.0                   1.0                 17424.000000   \n",
       "3                   36.0                   1.0                  2601.000000   \n",
       "6                   16.0                   0.0                     4.000000   \n",
       "..                   ...                   ...                          ...   \n",
       "171                  1.0                   0.0                   121.000000   \n",
       "172                  0.0                   0.0                   293.783832   \n",
       "173                  4.0                   1.0                   900.000000   \n",
       "174                  0.0                   0.0                   169.000000   \n",
       "175                  4.0                   0.0                   280.562500   \n",
       "\n",
       "     Year Batting Strike Rate Death ** 2  Year Batting Avg PowerPlay ** 2  \\\n",
       "0                           52729.936900                         196.0000   \n",
       "1                           42679.428100                         289.0000   \n",
       "2                           48400.000000                         441.0000   \n",
       "3                           52148.289600                       20449.0000   \n",
       "6                            1600.000000                        1156.0000   \n",
       "..                                   ...                              ...   \n",
       "171                         33609.888900                        1013.1489   \n",
       "172                         16191.054387                         812.2500   \n",
       "173                         41840.702500                         729.0000   \n",
       "174                         21824.152900                         240.2500   \n",
       "175                         21213.922500                        3136.0000   \n",
       "\n",
       "     Year Batting Strike Rate PowerPlay ** 2  Year Batting Avg T20I ** 2  \\\n",
       "0                                 54442.8889                  289.000000   \n",
       "1                                 12843.6889                  784.000000   \n",
       "2                                 12544.0000                  522.579600   \n",
       "3                                 20449.0000                  824.264100   \n",
       "6                                 16197.6529                 1907.068900   \n",
       "..                                       ...                         ...   \n",
       "171                               13238.8036                  583.259654   \n",
       "172                               16045.2889                  583.259654   \n",
       "173                               16931.2144                  543.245106   \n",
       "174                               17651.7796                  665.872220   \n",
       "175                               25600.0000                  593.710251   \n",
       "\n",
       "     Year Batting Strike Rate T20I ** 2  IPL Pts per Match Year+2  \n",
       "0                          14745.244900                 15.437500  \n",
       "1                          23669.822500                 19.968750  \n",
       "2                          15383.440900                 11.222222  \n",
       "3                          30025.958400                 18.125000  \n",
       "6                          35528.480100                  3.333333  \n",
       "..                                  ...                       ...  \n",
       "171                        17064.397870                  5.062500  \n",
       "172                        17064.397870                  7.857143  \n",
       "173                        11561.523220                  8.416667  \n",
       "174                        12127.570688                  7.714286  \n",
       "175                        14323.455183                  5.545455  \n",
       "\n",
       "[123 rows x 80 columns]"
      ]
     },
     "execution_count": 299,
     "metadata": {},
     "output_type": "execute_result"
    }
   ],
   "source": [
    "Batsman_Table"
   ]
  },
  {
   "cell_type": "code",
   "execution_count": 470,
   "metadata": {},
   "outputs": [],
   "source": [
    "def findMaxRState(table):\n",
    "    maxim = dict()\n",
    "    for count in range(0,1000):\n",
    "        r_score = LinearRegressor(table, count)[2]\n",
    "        maxim[count] = r_score\n",
    "    return max(maxim, key=maxim.get)"
   ]
  },
  {
   "cell_type": "code",
   "execution_count": 181,
   "metadata": {},
   "outputs": [
    {
     "data": {
      "text/plain": [
       "68"
      ]
     },
     "execution_count": 181,
     "metadata": {},
     "output_type": "execute_result"
    }
   ],
   "source": [
    "findMaxRState(Batsman_Table)"
   ]
  },
  {
   "cell_type": "code",
   "execution_count": 193,
   "metadata": {},
   "outputs": [
    {
     "data": {
      "text/plain": [
       "(array([ 1.51856942e+01,  1.18090121e+01,  5.68636572e-01, -1.14208658e+00,\n",
       "         3.38355840e-01, -7.17668953e-01, -9.40161351e-01, -9.01004406e-01,\n",
       "         7.43424522e+00, -4.15969407e+00,  3.71872684e+00, -6.99327799e+00,\n",
       "         8.69459942e+00, -8.69459942e+00,  1.32458562e+01, -1.61806313e+01,\n",
       "         3.98888781e+00,  3.77192415e-01,  1.11002228e+00, -7.99399323e+00,\n",
       "         2.03139118e+00, -2.02542675e+00,  1.63044148e+00,  1.96482574e-01,\n",
       "        -8.24948651e+00,  1.04924170e+01, -1.57584049e+00, -1.23735869e+00,\n",
       "        -5.49223378e-01, -8.12910963e-01, -5.42190367e-01,  4.41702136e+00,\n",
       "         7.03041791e-13,  1.09789402e+00,  1.06016208e-01, -2.83851707e-01,\n",
       "        -7.75786802e-01,  2.82287268e-04, -5.88296235e-03, -6.03496622e-04,\n",
       "         3.99658333e-04, -1.75192290e-02,  2.32743525e-02, -3.12931038e+00,\n",
       "        -7.60275659e+00, -2.17056860e-03,  2.18559695e-03, -5.77410645e-03,\n",
       "         4.84324905e-03,  8.04423657e-03,  3.17164094e-03, -1.35760934e+00,\n",
       "         7.15388907e-01, -1.04686877e+00,  1.60376186e+00, -2.65737570e-04,\n",
       "         5.30609040e-02, -9.09404239e-03,  1.53745669e-02, -4.53289072e-02,\n",
       "        -7.72055189e-02,  6.45860308e-01,  1.04924170e+01,  1.47445108e-02,\n",
       "         4.81997706e-03,  1.16710741e-03,  4.52131762e-03,  2.05499642e-03,\n",
       "        -1.71379000e-02]),\n",
       " -159.5357268866944)"
      ]
     },
     "execution_count": 193,
     "metadata": {},
     "output_type": "execute_result"
    }
   ],
   "source": [
    "LinearRegressor(Batsman_Table[Batsman_Table.columns[10:]], 916)"
   ]
  },
  {
   "cell_type": "code",
   "execution_count": 380,
   "metadata": {},
   "outputs": [],
   "source": [
    "def tryoutColumns(table, num):\n",
    "    arr = []\n",
    "    while len(arr) < num:\n",
    "        gen = random.randint(0, len(table.columns)-2)\n",
    "        if gen not in arr:\n",
    "            arr.append(gen)\n",
    "    \n",
    "    names = []\n",
    "    for elm in arr:\n",
    "        names.append(table.columns[elm])\n",
    "    return names"
   ]
  },
  {
   "cell_type": "code",
   "execution_count": 302,
   "metadata": {},
   "outputs": [
    {
     "data": {
      "text/html": [
       "<div>\n",
       "<style scoped>\n",
       "    .dataframe tbody tr th:only-of-type {\n",
       "        vertical-align: middle;\n",
       "    }\n",
       "\n",
       "    .dataframe tbody tr th {\n",
       "        vertical-align: top;\n",
       "    }\n",
       "\n",
       "    .dataframe thead th {\n",
       "        text-align: right;\n",
       "    }\n",
       "</style>\n",
       "<table border=\"1\" class=\"dataframe\">\n",
       "  <thead>\n",
       "    <tr style=\"text-align: right;\">\n",
       "      <th></th>\n",
       "      <th>Year+1 Age</th>\n",
       "      <th>Year+1 Matches</th>\n",
       "      <th>Year+1 Innings</th>\n",
       "      <th>Year+1 Not Outs</th>\n",
       "      <th>Year+1 Runs</th>\n",
       "      <th>Year+1 Batting Avg</th>\n",
       "      <th>Year+1 Batting Strike Rate</th>\n",
       "      <th>Year+1 Highest Score</th>\n",
       "      <th>Year+1 Total 4s</th>\n",
       "      <th>Year+1 Total 6s</th>\n",
       "      <th>...</th>\n",
       "      <th>Year Total 6s ** 2</th>\n",
       "      <th>Year Total 50s ** 2</th>\n",
       "      <th>Year Total 100s ** 2</th>\n",
       "      <th>Year Batting Avg Death ** 2</th>\n",
       "      <th>Year Batting Strike Rate Death ** 2</th>\n",
       "      <th>Year Batting Avg PowerPlay ** 2</th>\n",
       "      <th>Year Batting Strike Rate PowerPlay ** 2</th>\n",
       "      <th>Year Batting Avg T20I ** 2</th>\n",
       "      <th>Year Batting Strike Rate T20I ** 2</th>\n",
       "      <th>IPL Pts per Match Year+2</th>\n",
       "    </tr>\n",
       "  </thead>\n",
       "  <tbody>\n",
       "    <tr>\n",
       "      <th>0</th>\n",
       "      <td>29.0</td>\n",
       "      <td>14.0</td>\n",
       "      <td>13.0</td>\n",
       "      <td>0.153846</td>\n",
       "      <td>30.384615</td>\n",
       "      <td>35.90</td>\n",
       "      <td>158.63</td>\n",
       "      <td>89.0</td>\n",
       "      <td>2.000000</td>\n",
       "      <td>1.846154</td>\n",
       "      <td>...</td>\n",
       "      <td>225.0</td>\n",
       "      <td>4.0</td>\n",
       "      <td>0.0</td>\n",
       "      <td>1383.840000</td>\n",
       "      <td>52729.936900</td>\n",
       "      <td>196.0000</td>\n",
       "      <td>54442.8889</td>\n",
       "      <td>289.000000</td>\n",
       "      <td>14745.244900</td>\n",
       "      <td>15.437500</td>\n",
       "    </tr>\n",
       "    <tr>\n",
       "      <th>1</th>\n",
       "      <td>30.0</td>\n",
       "      <td>16.0</td>\n",
       "      <td>14.0</td>\n",
       "      <td>0.214286</td>\n",
       "      <td>36.642857</td>\n",
       "      <td>46.63</td>\n",
       "      <td>175.08</td>\n",
       "      <td>133.0</td>\n",
       "      <td>4.285714</td>\n",
       "      <td>1.571429</td>\n",
       "      <td>...</td>\n",
       "      <td>576.0</td>\n",
       "      <td>9.0</td>\n",
       "      <td>0.0</td>\n",
       "      <td>721.459600</td>\n",
       "      <td>42679.428100</td>\n",
       "      <td>289.0000</td>\n",
       "      <td>12843.6889</td>\n",
       "      <td>784.000000</td>\n",
       "      <td>23669.822500</td>\n",
       "      <td>19.968750</td>\n",
       "    </tr>\n",
       "    <tr>\n",
       "      <th>2</th>\n",
       "      <td>31.0</td>\n",
       "      <td>16.0</td>\n",
       "      <td>16.0</td>\n",
       "      <td>0.187500</td>\n",
       "      <td>42.937500</td>\n",
       "      <td>52.84</td>\n",
       "      <td>168.79</td>\n",
       "      <td>129.0</td>\n",
       "      <td>3.562500</td>\n",
       "      <td>2.312500</td>\n",
       "      <td>...</td>\n",
       "      <td>484.0</td>\n",
       "      <td>4.0</td>\n",
       "      <td>1.0</td>\n",
       "      <td>17424.000000</td>\n",
       "      <td>48400.000000</td>\n",
       "      <td>441.0000</td>\n",
       "      <td>12544.0000</td>\n",
       "      <td>522.579600</td>\n",
       "      <td>15383.440900</td>\n",
       "      <td>11.222222</td>\n",
       "    </tr>\n",
       "    <tr>\n",
       "      <th>3</th>\n",
       "      <td>32.0</td>\n",
       "      <td>9.0</td>\n",
       "      <td>9.0</td>\n",
       "      <td>0.111111</td>\n",
       "      <td>24.000000</td>\n",
       "      <td>27.00</td>\n",
       "      <td>132.51</td>\n",
       "      <td>89.0</td>\n",
       "      <td>1.333333</td>\n",
       "      <td>1.777778</td>\n",
       "      <td>...</td>\n",
       "      <td>1369.0</td>\n",
       "      <td>36.0</td>\n",
       "      <td>1.0</td>\n",
       "      <td>2601.000000</td>\n",
       "      <td>52148.289600</td>\n",
       "      <td>20449.0000</td>\n",
       "      <td>20449.0000</td>\n",
       "      <td>824.264100</td>\n",
       "      <td>30025.958400</td>\n",
       "      <td>18.125000</td>\n",
       "    </tr>\n",
       "    <tr>\n",
       "      <th>6</th>\n",
       "      <td>27.0</td>\n",
       "      <td>13.0</td>\n",
       "      <td>13.0</td>\n",
       "      <td>0.153846</td>\n",
       "      <td>23.769231</td>\n",
       "      <td>28.09</td>\n",
       "      <td>117.49</td>\n",
       "      <td>88.0</td>\n",
       "      <td>2.384615</td>\n",
       "      <td>0.692308</td>\n",
       "      <td>...</td>\n",
       "      <td>256.0</td>\n",
       "      <td>16.0</td>\n",
       "      <td>0.0</td>\n",
       "      <td>4.000000</td>\n",
       "      <td>1600.000000</td>\n",
       "      <td>1156.0000</td>\n",
       "      <td>16197.6529</td>\n",
       "      <td>1907.068900</td>\n",
       "      <td>35528.480100</td>\n",
       "      <td>3.333333</td>\n",
       "    </tr>\n",
       "    <tr>\n",
       "      <th>...</th>\n",
       "      <td>...</td>\n",
       "      <td>...</td>\n",
       "      <td>...</td>\n",
       "      <td>...</td>\n",
       "      <td>...</td>\n",
       "      <td>...</td>\n",
       "      <td>...</td>\n",
       "      <td>...</td>\n",
       "      <td>...</td>\n",
       "      <td>...</td>\n",
       "      <td>...</td>\n",
       "      <td>...</td>\n",
       "      <td>...</td>\n",
       "      <td>...</td>\n",
       "      <td>...</td>\n",
       "      <td>...</td>\n",
       "      <td>...</td>\n",
       "      <td>...</td>\n",
       "      <td>...</td>\n",
       "      <td>...</td>\n",
       "      <td>...</td>\n",
       "    </tr>\n",
       "    <tr>\n",
       "      <th>171</th>\n",
       "      <td>35.0</td>\n",
       "      <td>17.0</td>\n",
       "      <td>17.0</td>\n",
       "      <td>0.000000</td>\n",
       "      <td>26.764706</td>\n",
       "      <td>26.76</td>\n",
       "      <td>144.44</td>\n",
       "      <td>122.0</td>\n",
       "      <td>3.294118</td>\n",
       "      <td>1.058824</td>\n",
       "      <td>...</td>\n",
       "      <td>36.0</td>\n",
       "      <td>1.0</td>\n",
       "      <td>0.0</td>\n",
       "      <td>121.000000</td>\n",
       "      <td>33609.888900</td>\n",
       "      <td>1013.1489</td>\n",
       "      <td>13238.8036</td>\n",
       "      <td>583.259654</td>\n",
       "      <td>17064.397870</td>\n",
       "      <td>5.062500</td>\n",
       "    </tr>\n",
       "    <tr>\n",
       "      <th>172</th>\n",
       "      <td>29.0</td>\n",
       "      <td>17.0</td>\n",
       "      <td>13.0</td>\n",
       "      <td>0.153846</td>\n",
       "      <td>27.846154</td>\n",
       "      <td>32.90</td>\n",
       "      <td>145.38</td>\n",
       "      <td>115.0</td>\n",
       "      <td>2.538462</td>\n",
       "      <td>1.384615</td>\n",
       "      <td>...</td>\n",
       "      <td>16.0</td>\n",
       "      <td>0.0</td>\n",
       "      <td>0.0</td>\n",
       "      <td>293.783832</td>\n",
       "      <td>16191.054387</td>\n",
       "      <td>812.2500</td>\n",
       "      <td>16045.2889</td>\n",
       "      <td>583.259654</td>\n",
       "      <td>17064.397870</td>\n",
       "      <td>7.857143</td>\n",
       "    </tr>\n",
       "    <tr>\n",
       "      <th>173</th>\n",
       "      <td>30.0</td>\n",
       "      <td>14.0</td>\n",
       "      <td>13.0</td>\n",
       "      <td>0.000000</td>\n",
       "      <td>19.153846</td>\n",
       "      <td>19.15</td>\n",
       "      <td>126.39</td>\n",
       "      <td>42.0</td>\n",
       "      <td>1.230769</td>\n",
       "      <td>0.769231</td>\n",
       "      <td>...</td>\n",
       "      <td>324.0</td>\n",
       "      <td>4.0</td>\n",
       "      <td>1.0</td>\n",
       "      <td>900.000000</td>\n",
       "      <td>41840.702500</td>\n",
       "      <td>729.0000</td>\n",
       "      <td>16931.2144</td>\n",
       "      <td>543.245106</td>\n",
       "      <td>11561.523220</td>\n",
       "      <td>8.416667</td>\n",
       "    </tr>\n",
       "    <tr>\n",
       "      <th>174</th>\n",
       "      <td>31.0</td>\n",
       "      <td>12.0</td>\n",
       "      <td>12.0</td>\n",
       "      <td>0.083333</td>\n",
       "      <td>22.500000</td>\n",
       "      <td>24.54</td>\n",
       "      <td>127.35</td>\n",
       "      <td>56.0</td>\n",
       "      <td>2.416667</td>\n",
       "      <td>0.083333</td>\n",
       "      <td>...</td>\n",
       "      <td>100.0</td>\n",
       "      <td>0.0</td>\n",
       "      <td>0.0</td>\n",
       "      <td>169.000000</td>\n",
       "      <td>21824.152900</td>\n",
       "      <td>240.2500</td>\n",
       "      <td>17651.7796</td>\n",
       "      <td>665.872220</td>\n",
       "      <td>12127.570688</td>\n",
       "      <td>7.714286</td>\n",
       "    </tr>\n",
       "    <tr>\n",
       "      <th>175</th>\n",
       "      <td>32.0</td>\n",
       "      <td>14.0</td>\n",
       "      <td>11.0</td>\n",
       "      <td>0.090909</td>\n",
       "      <td>21.272727</td>\n",
       "      <td>23.40</td>\n",
       "      <td>125.13</td>\n",
       "      <td>93.0</td>\n",
       "      <td>1.818182</td>\n",
       "      <td>0.727273</td>\n",
       "      <td>...</td>\n",
       "      <td>1.0</td>\n",
       "      <td>4.0</td>\n",
       "      <td>0.0</td>\n",
       "      <td>280.562500</td>\n",
       "      <td>21213.922500</td>\n",
       "      <td>3136.0000</td>\n",
       "      <td>25600.0000</td>\n",
       "      <td>593.710251</td>\n",
       "      <td>14323.455183</td>\n",
       "      <td>5.545455</td>\n",
       "    </tr>\n",
       "  </tbody>\n",
       "</table>\n",
       "<p>123 rows × 80 columns</p>\n",
       "</div>"
      ],
      "text/plain": [
       "     Year+1 Age  Year+1 Matches  Year+1 Innings  Year+1 Not Outs  Year+1 Runs  \\\n",
       "0          29.0            14.0            13.0         0.153846    30.384615   \n",
       "1          30.0            16.0            14.0         0.214286    36.642857   \n",
       "2          31.0            16.0            16.0         0.187500    42.937500   \n",
       "3          32.0             9.0             9.0         0.111111    24.000000   \n",
       "6          27.0            13.0            13.0         0.153846    23.769231   \n",
       "..          ...             ...             ...              ...          ...   \n",
       "171        35.0            17.0            17.0         0.000000    26.764706   \n",
       "172        29.0            17.0            13.0         0.153846    27.846154   \n",
       "173        30.0            14.0            13.0         0.000000    19.153846   \n",
       "174        31.0            12.0            12.0         0.083333    22.500000   \n",
       "175        32.0            14.0            11.0         0.090909    21.272727   \n",
       "\n",
       "     Year+1 Batting Avg  Year+1 Batting Strike Rate  Year+1 Highest Score  \\\n",
       "0                 35.90                      158.63                  89.0   \n",
       "1                 46.63                      175.08                 133.0   \n",
       "2                 52.84                      168.79                 129.0   \n",
       "3                 27.00                      132.51                  89.0   \n",
       "6                 28.09                      117.49                  88.0   \n",
       "..                  ...                         ...                   ...   \n",
       "171               26.76                      144.44                 122.0   \n",
       "172               32.90                      145.38                 115.0   \n",
       "173               19.15                      126.39                  42.0   \n",
       "174               24.54                      127.35                  56.0   \n",
       "175               23.40                      125.13                  93.0   \n",
       "\n",
       "     Year+1 Total 4s  Year+1 Total 6s  ...  Year Total 6s ** 2  \\\n",
       "0           2.000000         1.846154  ...               225.0   \n",
       "1           4.285714         1.571429  ...               576.0   \n",
       "2           3.562500         2.312500  ...               484.0   \n",
       "3           1.333333         1.777778  ...              1369.0   \n",
       "6           2.384615         0.692308  ...               256.0   \n",
       "..               ...              ...  ...                 ...   \n",
       "171         3.294118         1.058824  ...                36.0   \n",
       "172         2.538462         1.384615  ...                16.0   \n",
       "173         1.230769         0.769231  ...               324.0   \n",
       "174         2.416667         0.083333  ...               100.0   \n",
       "175         1.818182         0.727273  ...                 1.0   \n",
       "\n",
       "     Year Total 50s ** 2  Year Total 100s ** 2  Year Batting Avg Death ** 2  \\\n",
       "0                    4.0                   0.0                  1383.840000   \n",
       "1                    9.0                   0.0                   721.459600   \n",
       "2                    4.0                   1.0                 17424.000000   \n",
       "3                   36.0                   1.0                  2601.000000   \n",
       "6                   16.0                   0.0                     4.000000   \n",
       "..                   ...                   ...                          ...   \n",
       "171                  1.0                   0.0                   121.000000   \n",
       "172                  0.0                   0.0                   293.783832   \n",
       "173                  4.0                   1.0                   900.000000   \n",
       "174                  0.0                   0.0                   169.000000   \n",
       "175                  4.0                   0.0                   280.562500   \n",
       "\n",
       "     Year Batting Strike Rate Death ** 2  Year Batting Avg PowerPlay ** 2  \\\n",
       "0                           52729.936900                         196.0000   \n",
       "1                           42679.428100                         289.0000   \n",
       "2                           48400.000000                         441.0000   \n",
       "3                           52148.289600                       20449.0000   \n",
       "6                            1600.000000                        1156.0000   \n",
       "..                                   ...                              ...   \n",
       "171                         33609.888900                        1013.1489   \n",
       "172                         16191.054387                         812.2500   \n",
       "173                         41840.702500                         729.0000   \n",
       "174                         21824.152900                         240.2500   \n",
       "175                         21213.922500                        3136.0000   \n",
       "\n",
       "     Year Batting Strike Rate PowerPlay ** 2  Year Batting Avg T20I ** 2  \\\n",
       "0                                 54442.8889                  289.000000   \n",
       "1                                 12843.6889                  784.000000   \n",
       "2                                 12544.0000                  522.579600   \n",
       "3                                 20449.0000                  824.264100   \n",
       "6                                 16197.6529                 1907.068900   \n",
       "..                                       ...                         ...   \n",
       "171                               13238.8036                  583.259654   \n",
       "172                               16045.2889                  583.259654   \n",
       "173                               16931.2144                  543.245106   \n",
       "174                               17651.7796                  665.872220   \n",
       "175                               25600.0000                  593.710251   \n",
       "\n",
       "     Year Batting Strike Rate T20I ** 2  IPL Pts per Match Year+2  \n",
       "0                          14745.244900                 15.437500  \n",
       "1                          23669.822500                 19.968750  \n",
       "2                          15383.440900                 11.222222  \n",
       "3                          30025.958400                 18.125000  \n",
       "6                          35528.480100                  3.333333  \n",
       "..                                  ...                       ...  \n",
       "171                        17064.397870                  5.062500  \n",
       "172                        17064.397870                  7.857143  \n",
       "173                        11561.523220                  8.416667  \n",
       "174                        12127.570688                  7.714286  \n",
       "175                        14323.455183                  5.545455  \n",
       "\n",
       "[123 rows x 80 columns]"
      ]
     },
     "execution_count": 302,
     "metadata": {},
     "output_type": "execute_result"
    }
   ],
   "source": [
    "Batsman_Table"
   ]
  },
  {
   "cell_type": "code",
   "execution_count": 303,
   "metadata": {},
   "outputs": [],
   "source": [
    "cols = tryoutColumns(Batsman_Table, 50)"
   ]
  },
  {
   "cell_type": "code",
   "execution_count": 304,
   "metadata": {},
   "outputs": [],
   "source": [
    "bats = Batsman_Table[cols]"
   ]
  },
  {
   "cell_type": "code",
   "execution_count": 188,
   "metadata": {},
   "outputs": [],
   "source": [
    "regress = LinearRegressor(Batsman_Table, 443)"
   ]
  },
  {
   "cell_type": "code",
   "execution_count": 194,
   "metadata": {},
   "outputs": [
    {
     "data": {
      "text/plain": [
       "(array([ 4.01194056e-01,  5.17209521e-04, -3.49350552e-03, -1.10555203e-03,\n",
       "         2.41540625e-03,  1.37062194e-02,  4.92235852e-03, -8.43991263e-05,\n",
       "        -1.86726616e-01,  1.07337341e-05, -2.75980132e-02,  8.08971145e-04,\n",
       "        -1.46376302e-02,  1.25192459e-04, -5.76613245e-01, -4.45768073e-02,\n",
       "         9.60017808e-04,  4.94093322e-02, -3.13580379e-02, -3.23935183e-07,\n",
       "         1.54098940e-01, -1.39749868e-02, -3.08359509e-04, -1.53520565e-02,\n",
       "         9.03539000e-05,  8.19091457e-06,  1.10876564e-05,  8.28478001e-02,\n",
       "        -1.71016584e-03,  8.21499290e-06,  1.08596810e-04,  1.91583439e-04,\n",
       "         1.48682519e-04,  1.83822804e-05, -6.55601238e-01, -1.98006379e-02,\n",
       "        -8.80694874e-03,  1.89399353e-01,  1.30312316e-06,  4.10746496e-04,\n",
       "         4.05001551e-01, -1.15871190e-02, -9.35710537e-03,  3.14325361e-02,\n",
       "         4.28376474e-02,  6.51723260e-05,  1.94297503e-05, -6.06162561e-01,\n",
       "        -3.79085125e-04]),\n",
       " -2.5756030220825354)"
      ]
     },
     "execution_count": 194,
     "metadata": {},
     "output_type": "execute_result"
    }
   ],
   "source": [
    "LinearRegressor(bats, 443)"
   ]
  },
  {
   "cell_type": "code",
   "execution_count": 381,
   "metadata": {},
   "outputs": [],
   "source": [
    "def returnMaxR2Score(table, num):\n",
    "    cols = tryoutColumns(table, num)\n",
    "    cols.append('IPL Pts per Match Year+2')\n",
    "    bats = table[cols]\n",
    "    r2_score = LinearRegressor(bats, findMaxRState(bats))[1]\n",
    "    return bats, cols, r2_score\n",
    "    "
   ]
  },
  {
   "cell_type": "code",
   "execution_count": 306,
   "metadata": {},
   "outputs": [
    {
     "data": {
      "text/plain": [
       "0.2839454555714279"
      ]
     },
     "execution_count": 306,
     "metadata": {},
     "output_type": "execute_result"
    }
   ],
   "source": [
    "returnMaxR2Score(Batsman_Table, 30)[2]"
   ]
  },
  {
   "cell_type": "code",
   "execution_count": 310,
   "metadata": {},
   "outputs": [
    {
     "data": {
      "text/html": [
       "<div>\n",
       "<style scoped>\n",
       "    .dataframe tbody tr th:only-of-type {\n",
       "        vertical-align: middle;\n",
       "    }\n",
       "\n",
       "    .dataframe tbody tr th {\n",
       "        vertical-align: top;\n",
       "    }\n",
       "\n",
       "    .dataframe thead th {\n",
       "        text-align: right;\n",
       "    }\n",
       "</style>\n",
       "<table border=\"1\" class=\"dataframe\">\n",
       "  <thead>\n",
       "    <tr style=\"text-align: right;\">\n",
       "      <th></th>\n",
       "      <th>Year+1 Age</th>\n",
       "      <th>Year+1 Matches</th>\n",
       "      <th>Year+1 Innings</th>\n",
       "      <th>Year+1 Not Outs</th>\n",
       "      <th>Year+1 Runs</th>\n",
       "      <th>Year+1 Batting Avg</th>\n",
       "      <th>Year+1 Batting Strike Rate</th>\n",
       "      <th>Year+1 Highest Score</th>\n",
       "      <th>Year+1 Total 4s</th>\n",
       "      <th>Year+1 Total 6s</th>\n",
       "      <th>...</th>\n",
       "      <th>Year Total 6s ** 2</th>\n",
       "      <th>Year Total 50s ** 2</th>\n",
       "      <th>Year Total 100s ** 2</th>\n",
       "      <th>Year Batting Avg Death ** 2</th>\n",
       "      <th>Year Batting Strike Rate Death ** 2</th>\n",
       "      <th>Year Batting Avg PowerPlay ** 2</th>\n",
       "      <th>Year Batting Strike Rate PowerPlay ** 2</th>\n",
       "      <th>Year Batting Avg T20I ** 2</th>\n",
       "      <th>Year Batting Strike Rate T20I ** 2</th>\n",
       "      <th>IPL Pts per Match Year+2</th>\n",
       "    </tr>\n",
       "  </thead>\n",
       "  <tbody>\n",
       "    <tr>\n",
       "      <th>0</th>\n",
       "      <td>29.0</td>\n",
       "      <td>14.0</td>\n",
       "      <td>13.0</td>\n",
       "      <td>0.153846</td>\n",
       "      <td>30.384615</td>\n",
       "      <td>35.90</td>\n",
       "      <td>158.63</td>\n",
       "      <td>89.0</td>\n",
       "      <td>2.000000</td>\n",
       "      <td>1.846154</td>\n",
       "      <td>...</td>\n",
       "      <td>225.0</td>\n",
       "      <td>4.0</td>\n",
       "      <td>0.0</td>\n",
       "      <td>1383.840000</td>\n",
       "      <td>52729.936900</td>\n",
       "      <td>196.0000</td>\n",
       "      <td>54442.8889</td>\n",
       "      <td>289.000000</td>\n",
       "      <td>14745.244900</td>\n",
       "      <td>15.437500</td>\n",
       "    </tr>\n",
       "    <tr>\n",
       "      <th>1</th>\n",
       "      <td>30.0</td>\n",
       "      <td>16.0</td>\n",
       "      <td>14.0</td>\n",
       "      <td>0.214286</td>\n",
       "      <td>36.642857</td>\n",
       "      <td>46.63</td>\n",
       "      <td>175.08</td>\n",
       "      <td>133.0</td>\n",
       "      <td>4.285714</td>\n",
       "      <td>1.571429</td>\n",
       "      <td>...</td>\n",
       "      <td>576.0</td>\n",
       "      <td>9.0</td>\n",
       "      <td>0.0</td>\n",
       "      <td>721.459600</td>\n",
       "      <td>42679.428100</td>\n",
       "      <td>289.0000</td>\n",
       "      <td>12843.6889</td>\n",
       "      <td>784.000000</td>\n",
       "      <td>23669.822500</td>\n",
       "      <td>19.968750</td>\n",
       "    </tr>\n",
       "    <tr>\n",
       "      <th>2</th>\n",
       "      <td>31.0</td>\n",
       "      <td>16.0</td>\n",
       "      <td>16.0</td>\n",
       "      <td>0.187500</td>\n",
       "      <td>42.937500</td>\n",
       "      <td>52.84</td>\n",
       "      <td>168.79</td>\n",
       "      <td>129.0</td>\n",
       "      <td>3.562500</td>\n",
       "      <td>2.312500</td>\n",
       "      <td>...</td>\n",
       "      <td>484.0</td>\n",
       "      <td>4.0</td>\n",
       "      <td>1.0</td>\n",
       "      <td>17424.000000</td>\n",
       "      <td>48400.000000</td>\n",
       "      <td>441.0000</td>\n",
       "      <td>12544.0000</td>\n",
       "      <td>522.579600</td>\n",
       "      <td>15383.440900</td>\n",
       "      <td>11.222222</td>\n",
       "    </tr>\n",
       "    <tr>\n",
       "      <th>3</th>\n",
       "      <td>32.0</td>\n",
       "      <td>9.0</td>\n",
       "      <td>9.0</td>\n",
       "      <td>0.111111</td>\n",
       "      <td>24.000000</td>\n",
       "      <td>27.00</td>\n",
       "      <td>132.51</td>\n",
       "      <td>89.0</td>\n",
       "      <td>1.333333</td>\n",
       "      <td>1.777778</td>\n",
       "      <td>...</td>\n",
       "      <td>1369.0</td>\n",
       "      <td>36.0</td>\n",
       "      <td>1.0</td>\n",
       "      <td>2601.000000</td>\n",
       "      <td>52148.289600</td>\n",
       "      <td>20449.0000</td>\n",
       "      <td>20449.0000</td>\n",
       "      <td>824.264100</td>\n",
       "      <td>30025.958400</td>\n",
       "      <td>18.125000</td>\n",
       "    </tr>\n",
       "    <tr>\n",
       "      <th>6</th>\n",
       "      <td>27.0</td>\n",
       "      <td>13.0</td>\n",
       "      <td>13.0</td>\n",
       "      <td>0.153846</td>\n",
       "      <td>23.769231</td>\n",
       "      <td>28.09</td>\n",
       "      <td>117.49</td>\n",
       "      <td>88.0</td>\n",
       "      <td>2.384615</td>\n",
       "      <td>0.692308</td>\n",
       "      <td>...</td>\n",
       "      <td>256.0</td>\n",
       "      <td>16.0</td>\n",
       "      <td>0.0</td>\n",
       "      <td>4.000000</td>\n",
       "      <td>1600.000000</td>\n",
       "      <td>1156.0000</td>\n",
       "      <td>16197.6529</td>\n",
       "      <td>1907.068900</td>\n",
       "      <td>35528.480100</td>\n",
       "      <td>3.333333</td>\n",
       "    </tr>\n",
       "    <tr>\n",
       "      <th>...</th>\n",
       "      <td>...</td>\n",
       "      <td>...</td>\n",
       "      <td>...</td>\n",
       "      <td>...</td>\n",
       "      <td>...</td>\n",
       "      <td>...</td>\n",
       "      <td>...</td>\n",
       "      <td>...</td>\n",
       "      <td>...</td>\n",
       "      <td>...</td>\n",
       "      <td>...</td>\n",
       "      <td>...</td>\n",
       "      <td>...</td>\n",
       "      <td>...</td>\n",
       "      <td>...</td>\n",
       "      <td>...</td>\n",
       "      <td>...</td>\n",
       "      <td>...</td>\n",
       "      <td>...</td>\n",
       "      <td>...</td>\n",
       "      <td>...</td>\n",
       "    </tr>\n",
       "    <tr>\n",
       "      <th>171</th>\n",
       "      <td>35.0</td>\n",
       "      <td>17.0</td>\n",
       "      <td>17.0</td>\n",
       "      <td>0.000000</td>\n",
       "      <td>26.764706</td>\n",
       "      <td>26.76</td>\n",
       "      <td>144.44</td>\n",
       "      <td>122.0</td>\n",
       "      <td>3.294118</td>\n",
       "      <td>1.058824</td>\n",
       "      <td>...</td>\n",
       "      <td>36.0</td>\n",
       "      <td>1.0</td>\n",
       "      <td>0.0</td>\n",
       "      <td>121.000000</td>\n",
       "      <td>33609.888900</td>\n",
       "      <td>1013.1489</td>\n",
       "      <td>13238.8036</td>\n",
       "      <td>583.259654</td>\n",
       "      <td>17064.397870</td>\n",
       "      <td>5.062500</td>\n",
       "    </tr>\n",
       "    <tr>\n",
       "      <th>172</th>\n",
       "      <td>29.0</td>\n",
       "      <td>17.0</td>\n",
       "      <td>13.0</td>\n",
       "      <td>0.153846</td>\n",
       "      <td>27.846154</td>\n",
       "      <td>32.90</td>\n",
       "      <td>145.38</td>\n",
       "      <td>115.0</td>\n",
       "      <td>2.538462</td>\n",
       "      <td>1.384615</td>\n",
       "      <td>...</td>\n",
       "      <td>16.0</td>\n",
       "      <td>0.0</td>\n",
       "      <td>0.0</td>\n",
       "      <td>293.783832</td>\n",
       "      <td>16191.054387</td>\n",
       "      <td>812.2500</td>\n",
       "      <td>16045.2889</td>\n",
       "      <td>583.259654</td>\n",
       "      <td>17064.397870</td>\n",
       "      <td>7.857143</td>\n",
       "    </tr>\n",
       "    <tr>\n",
       "      <th>173</th>\n",
       "      <td>30.0</td>\n",
       "      <td>14.0</td>\n",
       "      <td>13.0</td>\n",
       "      <td>0.000000</td>\n",
       "      <td>19.153846</td>\n",
       "      <td>19.15</td>\n",
       "      <td>126.39</td>\n",
       "      <td>42.0</td>\n",
       "      <td>1.230769</td>\n",
       "      <td>0.769231</td>\n",
       "      <td>...</td>\n",
       "      <td>324.0</td>\n",
       "      <td>4.0</td>\n",
       "      <td>1.0</td>\n",
       "      <td>900.000000</td>\n",
       "      <td>41840.702500</td>\n",
       "      <td>729.0000</td>\n",
       "      <td>16931.2144</td>\n",
       "      <td>543.245106</td>\n",
       "      <td>11561.523220</td>\n",
       "      <td>8.416667</td>\n",
       "    </tr>\n",
       "    <tr>\n",
       "      <th>174</th>\n",
       "      <td>31.0</td>\n",
       "      <td>12.0</td>\n",
       "      <td>12.0</td>\n",
       "      <td>0.083333</td>\n",
       "      <td>22.500000</td>\n",
       "      <td>24.54</td>\n",
       "      <td>127.35</td>\n",
       "      <td>56.0</td>\n",
       "      <td>2.416667</td>\n",
       "      <td>0.083333</td>\n",
       "      <td>...</td>\n",
       "      <td>100.0</td>\n",
       "      <td>0.0</td>\n",
       "      <td>0.0</td>\n",
       "      <td>169.000000</td>\n",
       "      <td>21824.152900</td>\n",
       "      <td>240.2500</td>\n",
       "      <td>17651.7796</td>\n",
       "      <td>665.872220</td>\n",
       "      <td>12127.570688</td>\n",
       "      <td>7.714286</td>\n",
       "    </tr>\n",
       "    <tr>\n",
       "      <th>175</th>\n",
       "      <td>32.0</td>\n",
       "      <td>14.0</td>\n",
       "      <td>11.0</td>\n",
       "      <td>0.090909</td>\n",
       "      <td>21.272727</td>\n",
       "      <td>23.40</td>\n",
       "      <td>125.13</td>\n",
       "      <td>93.0</td>\n",
       "      <td>1.818182</td>\n",
       "      <td>0.727273</td>\n",
       "      <td>...</td>\n",
       "      <td>1.0</td>\n",
       "      <td>4.0</td>\n",
       "      <td>0.0</td>\n",
       "      <td>280.562500</td>\n",
       "      <td>21213.922500</td>\n",
       "      <td>3136.0000</td>\n",
       "      <td>25600.0000</td>\n",
       "      <td>593.710251</td>\n",
       "      <td>14323.455183</td>\n",
       "      <td>5.545455</td>\n",
       "    </tr>\n",
       "  </tbody>\n",
       "</table>\n",
       "<p>123 rows × 80 columns</p>\n",
       "</div>"
      ],
      "text/plain": [
       "     Year+1 Age  Year+1 Matches  Year+1 Innings  Year+1 Not Outs  Year+1 Runs  \\\n",
       "0          29.0            14.0            13.0         0.153846    30.384615   \n",
       "1          30.0            16.0            14.0         0.214286    36.642857   \n",
       "2          31.0            16.0            16.0         0.187500    42.937500   \n",
       "3          32.0             9.0             9.0         0.111111    24.000000   \n",
       "6          27.0            13.0            13.0         0.153846    23.769231   \n",
       "..          ...             ...             ...              ...          ...   \n",
       "171        35.0            17.0            17.0         0.000000    26.764706   \n",
       "172        29.0            17.0            13.0         0.153846    27.846154   \n",
       "173        30.0            14.0            13.0         0.000000    19.153846   \n",
       "174        31.0            12.0            12.0         0.083333    22.500000   \n",
       "175        32.0            14.0            11.0         0.090909    21.272727   \n",
       "\n",
       "     Year+1 Batting Avg  Year+1 Batting Strike Rate  Year+1 Highest Score  \\\n",
       "0                 35.90                      158.63                  89.0   \n",
       "1                 46.63                      175.08                 133.0   \n",
       "2                 52.84                      168.79                 129.0   \n",
       "3                 27.00                      132.51                  89.0   \n",
       "6                 28.09                      117.49                  88.0   \n",
       "..                  ...                         ...                   ...   \n",
       "171               26.76                      144.44                 122.0   \n",
       "172               32.90                      145.38                 115.0   \n",
       "173               19.15                      126.39                  42.0   \n",
       "174               24.54                      127.35                  56.0   \n",
       "175               23.40                      125.13                  93.0   \n",
       "\n",
       "     Year+1 Total 4s  Year+1 Total 6s  ...  Year Total 6s ** 2  \\\n",
       "0           2.000000         1.846154  ...               225.0   \n",
       "1           4.285714         1.571429  ...               576.0   \n",
       "2           3.562500         2.312500  ...               484.0   \n",
       "3           1.333333         1.777778  ...              1369.0   \n",
       "6           2.384615         0.692308  ...               256.0   \n",
       "..               ...              ...  ...                 ...   \n",
       "171         3.294118         1.058824  ...                36.0   \n",
       "172         2.538462         1.384615  ...                16.0   \n",
       "173         1.230769         0.769231  ...               324.0   \n",
       "174         2.416667         0.083333  ...               100.0   \n",
       "175         1.818182         0.727273  ...                 1.0   \n",
       "\n",
       "     Year Total 50s ** 2  Year Total 100s ** 2  Year Batting Avg Death ** 2  \\\n",
       "0                    4.0                   0.0                  1383.840000   \n",
       "1                    9.0                   0.0                   721.459600   \n",
       "2                    4.0                   1.0                 17424.000000   \n",
       "3                   36.0                   1.0                  2601.000000   \n",
       "6                   16.0                   0.0                     4.000000   \n",
       "..                   ...                   ...                          ...   \n",
       "171                  1.0                   0.0                   121.000000   \n",
       "172                  0.0                   0.0                   293.783832   \n",
       "173                  4.0                   1.0                   900.000000   \n",
       "174                  0.0                   0.0                   169.000000   \n",
       "175                  4.0                   0.0                   280.562500   \n",
       "\n",
       "     Year Batting Strike Rate Death ** 2  Year Batting Avg PowerPlay ** 2  \\\n",
       "0                           52729.936900                         196.0000   \n",
       "1                           42679.428100                         289.0000   \n",
       "2                           48400.000000                         441.0000   \n",
       "3                           52148.289600                       20449.0000   \n",
       "6                            1600.000000                        1156.0000   \n",
       "..                                   ...                              ...   \n",
       "171                         33609.888900                        1013.1489   \n",
       "172                         16191.054387                         812.2500   \n",
       "173                         41840.702500                         729.0000   \n",
       "174                         21824.152900                         240.2500   \n",
       "175                         21213.922500                        3136.0000   \n",
       "\n",
       "     Year Batting Strike Rate PowerPlay ** 2  Year Batting Avg T20I ** 2  \\\n",
       "0                                 54442.8889                  289.000000   \n",
       "1                                 12843.6889                  784.000000   \n",
       "2                                 12544.0000                  522.579600   \n",
       "3                                 20449.0000                  824.264100   \n",
       "6                                 16197.6529                 1907.068900   \n",
       "..                                       ...                         ...   \n",
       "171                               13238.8036                  583.259654   \n",
       "172                               16045.2889                  583.259654   \n",
       "173                               16931.2144                  543.245106   \n",
       "174                               17651.7796                  665.872220   \n",
       "175                               25600.0000                  593.710251   \n",
       "\n",
       "     Year Batting Strike Rate T20I ** 2  IPL Pts per Match Year+2  \n",
       "0                          14745.244900                 15.437500  \n",
       "1                          23669.822500                 19.968750  \n",
       "2                          15383.440900                 11.222222  \n",
       "3                          30025.958400                 18.125000  \n",
       "6                          35528.480100                  3.333333  \n",
       "..                                  ...                       ...  \n",
       "171                        17064.397870                  5.062500  \n",
       "172                        17064.397870                  7.857143  \n",
       "173                        11561.523220                  8.416667  \n",
       "174                        12127.570688                  7.714286  \n",
       "175                        14323.455183                  5.545455  \n",
       "\n",
       "[123 rows x 80 columns]"
      ]
     },
     "execution_count": 310,
     "metadata": {},
     "output_type": "execute_result"
    }
   ],
   "source": [
    "Batsman_Table"
   ]
  },
  {
   "cell_type": "code",
   "execution_count": 311,
   "metadata": {},
   "outputs": [
    {
     "name": "stderr",
     "output_type": "stream",
     "text": [
      "/opt/anaconda3/lib/python3.7/site-packages/ipykernel_launcher.py:6: RuntimeWarning: invalid value encountered in double_scalars\n",
      "  \n"
     ]
    }
   ],
   "source": [
    "bat_standardized = StandardizeTable(Batsman_Table)"
   ]
  },
  {
   "cell_type": "code",
   "execution_count": 312,
   "metadata": {},
   "outputs": [],
   "source": [
    "bat_standardized.drop([0], axis = 1, inplace = True)"
   ]
  },
  {
   "cell_type": "code",
   "execution_count": 313,
   "metadata": {},
   "outputs": [
    {
     "name": "stdout",
     "output_type": "stream",
     "text": [
      "27\n"
     ]
    }
   ],
   "source": [
    "dictionary = dict()\n",
    "bat_standardized = clean_dataset(bat_standardized)\n",
    "for i in range(10, len(bat_standardized.columns)):\n",
    "    max_r2 = returnMaxR2Score(bat_standardized, i)[2]\n",
    "    dictionary[i] = max_r2\n",
    "    \n",
    "print(max(dictionary, key=dictionary.get))"
   ]
  },
  {
   "cell_type": "code",
   "execution_count": 308,
   "metadata": {},
   "outputs": [
    {
     "data": {
      "text/plain": [
       "0.31172559251568976"
      ]
     },
     "execution_count": 308,
     "metadata": {},
     "output_type": "execute_result"
    }
   ],
   "source": [
    "dictionary[29]"
   ]
  },
  {
   "cell_type": "code",
   "execution_count": 288,
   "metadata": {},
   "outputs": [],
   "source": [
    "df = pd.DataFrame.from_dict(dictionary, orient='index')"
   ]
  },
  {
   "cell_type": "code",
   "execution_count": 289,
   "metadata": {},
   "outputs": [
    {
     "data": {
      "text/plain": [
       "<matplotlib.axes._subplots.AxesSubplot at 0x1a20457710>"
      ]
     },
     "execution_count": 289,
     "metadata": {},
     "output_type": "execute_result"
    },
    {
     "data": {
      "image/png": "[encoded data removed]",
      "text/plain": [
       "<Figure size 432x288 with 1 Axes>"
      ]
     },
     "metadata": {
      "needs_background": "light"
     },
     "output_type": "display_data"
    }
   ],
   "source": [
    "df.plot()"
   ]
  },
  {
   "cell_type": "code",
   "execution_count": 239,
   "metadata": {},
   "outputs": [],
   "source": [
    "def StandardizeTable(table):\n",
    "    for col in table.columns:\n",
    "        mean = np.mean(table[col])\n",
    "        std = np.std(table[col])\n",
    "        for index in table.index:\n",
    "            table[col][index] = float((table[col][index] - mean) / std)\n",
    "        \n",
    "    return table"
   ]
  },
  {
   "cell_type": "code",
   "execution_count": 249,
   "metadata": {},
   "outputs": [],
   "source": [
    "bat_standardized = StandardizeTable(Batsman_Table)"
   ]
  },
  {
   "cell_type": "code",
   "execution_count": 251,
   "metadata": {},
   "outputs": [
    {
     "data": {
      "text/html": [
       "<div>\n",
       "<style scoped>\n",
       "    .dataframe tbody tr th:only-of-type {\n",
       "        vertical-align: middle;\n",
       "    }\n",
       "\n",
       "    .dataframe tbody tr th {\n",
       "        vertical-align: top;\n",
       "    }\n",
       "\n",
       "    .dataframe thead th {\n",
       "        text-align: right;\n",
       "    }\n",
       "</style>\n",
       "<table border=\"1\" class=\"dataframe\">\n",
       "  <thead>\n",
       "    <tr style=\"text-align: right;\">\n",
       "      <th></th>\n",
       "      <th>Year+1 Age</th>\n",
       "      <th>Year+1 Matches</th>\n",
       "      <th>Year+1 Innings</th>\n",
       "      <th>Year+1 Not Outs</th>\n",
       "      <th>Year+1 Runs</th>\n",
       "      <th>Year+1 Batting Avg</th>\n",
       "      <th>Year+1 Batting Strike Rate</th>\n",
       "      <th>Year+1 Highest Score</th>\n",
       "      <th>Year+1 Total 4s</th>\n",
       "      <th>Year+1 Total 6s</th>\n",
       "      <th>...</th>\n",
       "      <th>Year Total 6s ** 2</th>\n",
       "      <th>Year Total 50s ** 2</th>\n",
       "      <th>Year Total 100s ** 2</th>\n",
       "      <th>Year Batting Avg Death ** 2</th>\n",
       "      <th>Year Batting Strike Rate Death ** 2</th>\n",
       "      <th>Year Batting Avg PowerPlay ** 2</th>\n",
       "      <th>Year Batting Strike Rate PowerPlay ** 2</th>\n",
       "      <th>Year Batting Avg T20I ** 2</th>\n",
       "      <th>Year Batting Strike Rate T20I ** 2</th>\n",
       "      <th>IPL Pts per Match Year+2</th>\n",
       "    </tr>\n",
       "  </thead>\n",
       "  <tbody>\n",
       "  </tbody>\n",
       "</table>\n",
       "<p>0 rows × 80 columns</p>\n",
       "</div>"
      ],
      "text/plain": [
       "Empty DataFrame\n",
       "Columns: [Year+1 Age, Year+1 Matches, Year+1 Innings, Year+1 Not Outs, Year+1 Runs, Year+1 Batting Avg, Year+1 Batting Strike Rate, Year+1 Highest Score, Year+1 Total 4s, Year+1 Total 6s, Year+1 Total 50s, Year+1 Total 100s, Year+1 Batting Avg Death, Year+1 Batting Strike Rate Death, Year+1 Batting Avg PowerPlay, Year+1 Batting Strike Rate PowerPlay, Year+1 Batting Avg T20I, Year+1 Batting Strike Rate T20I, Year+1 Middle-order Batsman, Year+1 Opening Batsman, Year+1 Top-order Batsman, Year+1 Wicket-Keeper, Year+1 Domestic, Year+1 Intl., Year Age, Year Matches, Year Innings, Year Not Outs, Year Runs, Year Batting Avg, Year Batting Strike Rate, Year Highest Score, Year Total 4s, Year Total 6s, Year Total 50s, Year Total 100s, Year Batting Avg Death, Year Batting Strike Rate Death, Year Batting Avg PowerPlay, Year Batting Strike Rate PowerPlay, Year Batting Avg T20I, Year Batting Strike Rate T20I, 0, Year+1 Age ** 2, Year+1 Matches ** 2, Year+1 Innings ** 2, Year+1 Not Outs ** 2, Year+1 Runs ** 2, Year+1 Batting Avg ** 2, Year+1 Batting Strike Rate ** 2, Year+1 Highest Score ** 2, Year+1 Total 4s ** 2, Year+1 Total 6s ** 2, Year+1 Total 50s ** 2, Year+1 Total 100s ** 2, Year+1 Batting Avg Death ** 2, Year+1 Batting Strike Rate Death ** 2, Year+1 Batting Avg PowerPlay ** 2, Year+1 Batting Strike Rate PowerPlay ** 2, Year+1 Batting Avg T20I ** 2, Year+1 Batting Strike Rate T20I ** 2, Year Age ** 2, Year Matches ** 2, Year Innings ** 2, Year Not Outs ** 2, Year Runs ** 2, Year Batting Avg ** 2, Year Batting Strike Rate ** 2, Year Highest Score ** 2, Year Total 4s ** 2, Year Total 6s ** 2, Year Total 50s ** 2, Year Total 100s ** 2, Year Batting Avg Death ** 2, Year Batting Strike Rate Death ** 2, Year Batting Avg PowerPlay ** 2, Year Batting Strike Rate PowerPlay ** 2, Year Batting Avg T20I ** 2, Year Batting Strike Rate T20I ** 2, IPL Pts per Match Year+2]\n",
       "Index: []\n",
       "\n",
       "[0 rows x 80 columns]"
      ]
     },
     "execution_count": 251,
     "metadata": {},
     "output_type": "execute_result"
    }
   ],
   "source": [
    "Batsman_Table"
   ]
  },
  {
   "cell_type": "code",
   "execution_count": 244,
   "metadata": {},
   "outputs": [
    {
     "data": {
      "text/plain": [
       "0.2858121677191734"
      ]
     },
     "execution_count": 244,
     "metadata": {},
     "output_type": "execute_result"
    }
   ],
   "source": [
    "returnMaxR2Score(bat_standardized, 40)[2]"
   ]
  },
  {
   "cell_type": "code",
   "execution_count": 163,
   "metadata": {},
   "outputs": [
    {
     "name": "stdout",
     "output_type": "stream",
     "text": [
      "0  :  4.440892098500626e-16\n",
      "Year+1 Runs ** 2  :  -0.00014921268158163414\n",
      "Year+1 Batting Avg ** 2  :  0.007505117922329829\n",
      "Year+1 Batting Strike Rate ** 2  :  0.008097025190981766\n",
      "Year+1 Highest Score ** 2  :  -0.000866738778386722\n",
      "Year+1 Batting Avg Death ** 2  :  0.0014101030977053952\n",
      "Year+1 Batting Strike Rate Death ** 2  :  -0.0006850828439093348\n",
      "Year+1 Batting Avg PowerPlay ** 2  :  -0.005293295798217745\n",
      "Year+1 Batting Strike Rate PowerPlay ** 2  :  0.0010503154568793915\n",
      "Year+1 Batting Strike Rate T20I ** 2  :  -0.0004852310458393072\n",
      "Year Runs ** 2  :  0.00013451669068165195\n",
      "Year Batting Avg ** 2  :  0.00027890351884175824\n",
      "Year Batting Strike Rate ** 2  :  0.0033920323458532797\n",
      "Year Highest Score ** 2  :  -0.004413922181384866\n",
      "Year Total 4s ** 2  :  -0.00242126079284663\n",
      "Year Batting Avg Death ** 2  :  0.005263812197191575\n",
      "Year Batting Strike Rate Death ** 2  :  -0.0015511331457352395\n",
      "Year Batting Avg PowerPlay ** 2  :  -0.0015485605216619125\n",
      "Year Batting Strike Rate PowerPlay ** 2  :  -0.0004578997069500934\n",
      "Year Batting Strike Rate T20I ** 2  :  0.0008524329653798457\n"
     ]
    }
   ],
   "source": [
    "drop_columns = []\n",
    "for i in range(len(Batsman_Table.columns)-1):\n",
    "    if abs(regress[0][i]) < 0.01:\n",
    "        print(Batsman_Table.columns[i], \" : \", regress[0][i])\n",
    "        drop_columns.append(Batsman_Table.columns[i])"
   ]
  },
  {
   "cell_type": "code",
   "execution_count": 88,
   "metadata": {},
   "outputs": [],
   "source": [
    "Batsman_Table.drop(drop_columns[:-1], axis = 1, inplace = True)"
   ]
  },
  {
   "cell_type": "code",
   "execution_count": 92,
   "metadata": {},
   "outputs": [],
   "source": [
    "negative_arr = []"
   ]
  },
  {
   "cell_type": "code",
   "execution_count": 291,
   "metadata": {
    "scrolled": false
   },
   "outputs": [
    {
     "data": {
      "text/plain": [
       "Index(['Year+1 Age', 'Year+1 Matches', 'Year+1 Innings', 'Year+1 Not Outs',\n",
       "       'Year+1 Runs', 'Year+1 Batting Avg', 'Year+1 Batting Strike Rate',\n",
       "       'Year+1 Highest Score', 'Year+1 Total 4s', 'Year+1 Total 6s',\n",
       "       'Year+1 Total 50s', 'Year+1 Total 100s', 'Year+1 Batting Avg Death',\n",
       "       'Year+1 Batting Strike Rate Death', 'Year+1 Batting Avg PowerPlay',\n",
       "       'Year+1 Batting Strike Rate PowerPlay', 'Year+1 Batting Avg T20I',\n",
       "       'Year+1 Batting Strike Rate T20I', 'Year+1 Middle-order Batsman',\n",
       "       'Year+1 Opening Batsman', 'Year+1 Top-order Batsman',\n",
       "       'Year+1 Wicket-Keeper', 'Year+1 Domestic', 'Year+1 Intl.', 'Year Age',\n",
       "       'Year Matches', 'Year Innings', 'Year Not Outs', 'Year Runs',\n",
       "       'Year Batting Avg', 'Year Batting Strike Rate', 'Year Highest Score',\n",
       "       'Year Total 4s', 'Year Total 6s', 'Year Total 50s', 'Year Total 100s',\n",
       "       'Year Batting Avg Death', 'Year Batting Strike Rate Death',\n",
       "       'Year Batting Avg PowerPlay', 'Year Batting Strike Rate PowerPlay',\n",
       "       'Year Batting Avg T20I', 'Year Batting Strike Rate T20I',\n",
       "       'Year+1 Age ** 2', 'Year+1 Matches ** 2', 'Year+1 Innings ** 2',\n",
       "       'Year+1 Not Outs ** 2', 'Year+1 Runs ** 2', 'Year+1 Batting Avg ** 2',\n",
       "       'Year+1 Batting Strike Rate ** 2', 'Year+1 Highest Score ** 2',\n",
       "       'Year+1 Total 4s ** 2', 'Year+1 Total 6s ** 2', 'Year+1 Total 50s ** 2',\n",
       "       'Year+1 Total 100s ** 2', 'Year+1 Batting Avg Death ** 2',\n",
       "       'Year+1 Batting Strike Rate Death ** 2',\n",
       "       'Year+1 Batting Avg PowerPlay ** 2',\n",
       "       'Year+1 Batting Strike Rate PowerPlay ** 2',\n",
       "       'Year+1 Batting Avg T20I ** 2', 'Year+1 Batting Strike Rate T20I ** 2',\n",
       "       'Year Age ** 2', 'Year Matches ** 2', 'Year Innings ** 2',\n",
       "       'Year Not Outs ** 2', 'Year Runs ** 2', 'Year Batting Avg ** 2',\n",
       "       'Year Batting Strike Rate ** 2', 'Year Highest Score ** 2',\n",
       "       'Year Total 4s ** 2', 'Year Total 6s ** 2', 'Year Total 50s ** 2',\n",
       "       'Year Total 100s ** 2', 'Year Batting Avg Death ** 2',\n",
       "       'Year Batting Strike Rate Death ** 2',\n",
       "       'Year Batting Avg PowerPlay ** 2',\n",
       "       'Year Batting Strike Rate PowerPlay ** 2', 'Year Batting Avg T20I ** 2',\n",
       "       'Year Batting Strike Rate T20I ** 2', 'IPL Pts per Match Year+2'],\n",
       "      dtype='object')"
      ]
     },
     "execution_count": 291,
     "metadata": {},
     "output_type": "execute_result"
    }
   ],
   "source": [
    "Batsman_Table.columns"
   ]
  },
  {
   "cell_type": "code",
   "execution_count": 421,
   "metadata": {},
   "outputs": [],
   "source": [
    "def OutputR2Score(table):\n",
    "    table.drop(table.columns[:5], axis = 1, inplace = True)\n",
    "    table = clean_dataset(table)\n",
    "    if len(table) == 0:\n",
    "        print(\"TABLE HAS NO ROWS! ERROR\")\n",
    "    random_state = findMaxRState(table)\n",
    "    LinearRegressor(table, random_state)\n",
    "   \n",
    "    dictionary = dict()\n",
    "    for i in range(10, len(table.columns)):\n",
    "        max_r2 = returnMaxR2Score(table, i)[2]\n",
    "        dictionary[i] = max_r2\n",
    "\n",
    "        \n",
    "        \n",
    "    return dictionary[max(dictionary, key=dictionary.get)], returnMaxR2Score(table, max(dictionary, key=dictionary.get))[1], max(dictionary, key=dictionary.get)"
   ]
  },
  {
   "cell_type": "code",
   "execution_count": 325,
   "metadata": {},
   "outputs": [],
   "source": [
    "batsman_per_innings = pd.read_excel('Squared_Batsman.xlsx')"
   ]
  },
  {
   "cell_type": "code",
   "execution_count": 333,
   "metadata": {},
   "outputs": [],
   "source": [
    "def SquaredTable(table):\n",
    "    for col in table.columns:\n",
    "        if type(table[col].iloc[0]) != str:\n",
    "            table[str(col) + ' ** 2'] = table[col] * table[col]\n",
    "    return table"
   ]
  },
  {
   "cell_type": "code",
   "execution_count": 334,
   "metadata": {},
   "outputs": [],
   "source": [
    "New_Batsman = pd.read_excel('Gaurav_Changed.xlsx')"
   ]
  },
  {
   "cell_type": "code",
   "execution_count": 336,
   "metadata": {},
   "outputs": [],
   "source": [
    "SquaredTable(New_Batsman).to_excel('Gaurav_Change_Squared.xlsx')"
   ]
  },
  {
   "cell_type": "code",
   "execution_count": 441,
   "metadata": {},
   "outputs": [],
   "source": [
    "New_Batsman = pd.read_excel('Gaurav_Change_Squared.xlsx')"
   ]
  },
  {
   "cell_type": "code",
   "execution_count": 442,
   "metadata": {},
   "outputs": [
    {
     "data": {
      "text/plain": [
       "(0.34728274835462924,\n",
       " ['Year Not Outs ** 2',\n",
       "  'Year+1 Highest Score ** 2',\n",
       "  'Year Boundaries',\n",
       "  'Year Highest Score',\n",
       "  'Year Innings',\n",
       "  'Catches per Innings ** 2',\n",
       "  'Year Boundaries ** 2',\n",
       "  'Year Batting Avg Cumulative',\n",
       "  'Catches',\n",
       "  'Year Total 100s/Innings ** 2',\n",
       "  'Year Total 50s/Innings',\n",
       "  'Year+1 Opening Batsman',\n",
       "  'Year+1 Innings',\n",
       "  'Catches per Innings',\n",
       "  'Year+1 Total 50s/Innings',\n",
       "  'Year Not Outs',\n",
       "  'Year Age ** 2',\n",
       "  'IPL Pts per Match Year+2'],\n",
       " 17)"
      ]
     },
     "execution_count": 442,
     "metadata": {},
     "output_type": "execute_result"
    }
   ],
   "source": [
    "OutputR2Score(New_Batsman)"
   ]
  },
  {
   "cell_type": "code",
   "execution_count": 443,
   "metadata": {},
   "outputs": [],
   "source": [
    "Batsman_With_Catches = pd.read_excel('Squared_Batsman.xlsx')"
   ]
  },
  {
   "cell_type": "code",
   "execution_count": 444,
   "metadata": {},
   "outputs": [
    {
     "data": {
      "text/plain": [
       "(0.448682746532026,\n",
       " ['Year+1 Batting Strike Rate PowerPlay',\n",
       "  'Year+1 Total 50s/Innings',\n",
       "  'Year+1 Runs/Innings',\n",
       "  'Year Total 4s ** 2',\n",
       "  'Year+1 Not Outs ** 2',\n",
       "  'Year+1 Batting Avg',\n",
       "  'Year Not Outs/Innings',\n",
       "  'Year+1 Total 100s ** 2',\n",
       "  'Year Total 6s/Innings',\n",
       "  'Year Total 4s/Innings',\n",
       "  'Year Batting Strike Rate Death',\n",
       "  'Year Batting Strike Rate PowerPlay ** 2',\n",
       "  'Year Total 50s ** 2',\n",
       "  'Year Matches ** 2',\n",
       "  'Year Highest Score',\n",
       "  'Year+1 Innings',\n",
       "  'Year+1 Intl.',\n",
       "  'IPL Pts per Match Year+2'],\n",
       " 17)"
      ]
     },
     "execution_count": 444,
     "metadata": {},
     "output_type": "execute_result"
    }
   ],
   "source": [
    "OutputR2Score(Batsman_With_Catches)"
   ]
  },
  {
   "cell_type": "code",
   "execution_count": 384,
   "metadata": {},
   "outputs": [],
   "source": [
    "Best20Features = pd.read_excel('20BestFeatures.xlsx')"
   ]
  },
  {
   "cell_type": "code",
   "execution_count": 385,
   "metadata": {},
   "outputs": [
    {
     "data": {
      "text/plain": [
       "(0.2485871901695642, 17)"
      ]
     },
     "execution_count": 385,
     "metadata": {},
     "output_type": "execute_result"
    }
   ],
   "source": [
    "OutputR2Score(Best20Features)"
   ]
  },
  {
   "cell_type": "code",
   "execution_count": 431,
   "metadata": {},
   "outputs": [],
   "source": [
    "Best30Features = pd.read_excel('30BestFeatures.xlsx')"
   ]
  },
  {
   "cell_type": "code",
   "execution_count": 432,
   "metadata": {},
   "outputs": [
    {
     "data": {
      "text/plain": [
       "(0.4162458343891219,\n",
       " ['Year Batting Avg T20I',\n",
       "  'Year+1 Total 50s ** 2',\n",
       "  'Year Total 50s ** 2',\n",
       "  'Year+1 Intl.',\n",
       "  'Year Total 4s',\n",
       "  'Year Total 50s',\n",
       "  'Year Total 6s',\n",
       "  'Year Not Outs ** 2',\n",
       "  'Year+1 Batting Avg',\n",
       "  'Year Not Outs',\n",
       "  'Year Batting Avg',\n",
       "  'Google Trends Mean',\n",
       "  'Year+1 Age',\n",
       "  'IPL Pts per Match Year+2'],\n",
       " 13)"
      ]
     },
     "execution_count": 432,
     "metadata": {},
     "output_type": "execute_result"
    }
   ],
   "source": [
    "OutputR2Score(Best30Features)"
   ]
  },
  {
   "cell_type": "code",
   "execution_count": 439,
   "metadata": {},
   "outputs": [],
   "source": [
    "Best40Features = pd.read_excel('40BestFeatures.xlsx')"
   ]
  },
  {
   "cell_type": "code",
   "execution_count": 440,
   "metadata": {},
   "outputs": [
    {
     "data": {
      "text/plain": [
       "(0.36691499212487255,\n",
       " ['Year+1 Matches ** 2',\n",
       "  'Year Batting Strike Rate',\n",
       "  'Year+1 Not Outs',\n",
       "  'Year+1 Innings',\n",
       "  'Year Batting Avg Death',\n",
       "  'Year Total 4s',\n",
       "  'Year+1 Batting Strike Rate T20I',\n",
       "  'Year+1 Total 50s ** 2',\n",
       "  'Year+1 Batting Avg T20I',\n",
       "  'Year+1 Batting Avg Death',\n",
       "  'Year Age ** 2',\n",
       "  'Year+1 Age',\n",
       "  'Year Not Outs',\n",
       "  'Year+1 Innings ** 2',\n",
       "  'Year Batting Avg',\n",
       "  'Year+1 Batting Avg',\n",
       "  'Year+1 Intl.',\n",
       "  'Year+1 Total 100s ** 2',\n",
       "  'Year Age',\n",
       "  'Year Batting Avg PowerPlay',\n",
       "  'Year+1 Matches',\n",
       "  'Google Trends Mean',\n",
       "  'Year Total 6s',\n",
       "  'Year Matches',\n",
       "  'Year+1 Not Outs ** 2',\n",
       "  'Year Total 50s',\n",
       "  'Year Total 50s ** 2',\n",
       "  'IPL Pts per Match Year+2'],\n",
       " 27)"
      ]
     },
     "execution_count": 440,
     "metadata": {},
     "output_type": "execute_result"
    }
   ],
   "source": [
    "OutputR2Score(Best40Features)"
   ]
  },
  {
   "cell_type": "code",
   "execution_count": 426,
   "metadata": {},
   "outputs": [],
   "source": [
    "Best50Features = pd.read_excel('50BestFeatures.xlsx')"
   ]
  },
  {
   "cell_type": "code",
   "execution_count": 427,
   "metadata": {},
   "outputs": [
    {
     "data": {
      "text/plain": [
       "(0.3705698071948975,\n",
       " ['Year Batting Strike Rate Death',\n",
       "  'Year Total 50s',\n",
       "  'Year Total 100s ** 2',\n",
       "  'Year Innings',\n",
       "  'Year Not Outs ** 2',\n",
       "  'Year Innings ** 2',\n",
       "  'Year Matches',\n",
       "  'Year Runs',\n",
       "  'Year Batting Avg Death',\n",
       "  'Year+1 Batting Avg PowerPlay',\n",
       "  'Year+1 Innings',\n",
       "  'Year+1 Runs',\n",
       "  'Year Batting Avg',\n",
       "  'Year+1 Total 100s ** 2',\n",
       "  'Year+1 Batting Avg',\n",
       "  'Year+1 Innings ** 2',\n",
       "  'Year Total 4s',\n",
       "  'Year+1 Highest Score',\n",
       "  'IPL Pts per Match Year+2'],\n",
       " 18)"
      ]
     },
     "execution_count": 427,
     "metadata": {},
     "output_type": "execute_result"
    }
   ],
   "source": [
    "OutputR2Score(Best50Features)"
   ]
  },
  {
   "cell_type": "code",
   "execution_count": 429,
   "metadata": {},
   "outputs": [],
   "source": [
    "Best45Features = pd.read_excel('45BestFeatures.xlsx')"
   ]
  },
  {
   "cell_type": "code",
   "execution_count": 430,
   "metadata": {},
   "outputs": [
    {
     "data": {
      "text/plain": [
       "(0.3638004118835753,\n",
       " ['Google Trends Mean',\n",
       "  'Year Total 4s',\n",
       "  'Year+1 Batting Strike Rate',\n",
       "  'Year+1 Batting Strike Rate PowerPlay',\n",
       "  'Year+1 Innings',\n",
       "  'Year Total 100s ** 2',\n",
       "  'Year Total 50s',\n",
       "  'Year Batting Strike Rate',\n",
       "  'Year Batting Avg',\n",
       "  'Year Matches',\n",
       "  'Year+1 Total 100s ** 2',\n",
       "  'Year Batting Avg T20I',\n",
       "  'Year+1 Batting Avg T20I',\n",
       "  'Year+1 Not Outs ** 2',\n",
       "  'Year+1 Not Outs',\n",
       "  'Year Batting Strike Rate T20I',\n",
       "  'Year Not Outs ** 2',\n",
       "  'Year Total 6s',\n",
       "  'Year+1 Age',\n",
       "  'Year Batting Strike Rate PowerPlay',\n",
       "  'Year Highest Score',\n",
       "  'Year Matches ** 2',\n",
       "  'Year+1 Age ** 2',\n",
       "  'Year+1 Total 50s ** 2',\n",
       "  'IPL Pts per Match Year+2'],\n",
       " 24)"
      ]
     },
     "execution_count": 430,
     "metadata": {},
     "output_type": "execute_result"
    }
   ],
   "source": [
    "OutputR2Score(Best45Features)"
   ]
  },
  {
   "cell_type": "code",
   "execution_count": 428,
   "metadata": {},
   "outputs": [
    {
     "data": {
      "text/plain": [
       "(0.39593560375234027,\n",
       " ['Year Highest Score',\n",
       "  'Year Not Outs',\n",
       "  'Year+1 Matches ** 2',\n",
       "  'Year+1 Batting Avg',\n",
       "  'Year+1 Total 4s',\n",
       "  'Year+1 Batting Avg Death',\n",
       "  'Year Total 4s',\n",
       "  'Google Trends Mean',\n",
       "  'Year+1 Batting Strike Rate Death',\n",
       "  'Year Batting Strike Rate',\n",
       "  'Year Not Outs ** 2',\n",
       "  'Year+1 Highest Score',\n",
       "  'Year+1 Total 6s',\n",
       "  'IPL Pts per Match Year+2'],\n",
       " 13)"
      ]
     },
     "execution_count": 428,
     "metadata": {},
     "output_type": "execute_result"
    }
   ],
   "source": [
    "Best42Features = pd.read_excel('42BestFeatures.xlsx')\n",
    "OutputR2Score(Best42Features)"
   ]
  },
  {
   "cell_type": "code",
   "execution_count": 474,
   "metadata": {},
   "outputs": [
    {
     "data": {
      "text/plain": [
       "(LinearRegression(copy_X=True, fit_intercept=True, n_jobs=None, normalize=False),\n",
       " array([-1.10033713e+00,  2.93264903e-02,  3.10111914e-01, -1.49996310e-03,\n",
       "        -1.15380953e-01,  8.26224302e-02,  9.17160439e-02,  6.54211759e-02,\n",
       "         4.21299105e-02,  2.43358129e-02,  9.16582894e-02,  9.17853963e-02,\n",
       "        -1.05543085e-01,  7.31878622e-03, -7.60837437e-01, -9.42486143e-01,\n",
       "        -1.07714406e-02,  4.96666354e-03, -6.17490173e-04,  1.91516427e-02]),\n",
       " 0.37473185250239516)"
      ]
     },
     "execution_count": 474,
     "metadata": {},
     "output_type": "execute_result"
    }
   ],
   "source": [
    "LogicFeatures = pd.read_excel('Finale.xlsx')\n",
    "random2 = findMaxRState(LogicFeatures)\n",
    "LinearRegressor(LogicFeatures, random2)"
   ]
  },
  {
   "cell_type": "code",
   "execution_count": 466,
   "metadata": {},
   "outputs": [
    {
     "data": {
      "text/plain": [
       "(0.4093441142959957,\n",
       " ['Year+1 Batting Avg',\n",
       "  'Year Total 6s',\n",
       "  'Year+1 Total 4s',\n",
       "  'Year+1 Not Outs',\n",
       "  'Year+1 Total 100s ** 2',\n",
       "  'Year Not Outs ** 2',\n",
       "  'Year+1 Total 6s',\n",
       "  'Year Total 4s',\n",
       "  'Year+1 Batting Avg T20I',\n",
       "  'Year Batting Avg',\n",
       "  'Year Highest Score',\n",
       "  'Year Matches ** 2',\n",
       "  'Year+1 Not Outs ** 2',\n",
       "  'IPL Pts per Match Year+2'],\n",
       " 13)"
      ]
     },
     "execution_count": 466,
     "metadata": {},
     "output_type": "execute_result"
    }
   ],
   "source": [
    "LogicFeatures = pd.read_excel('Output1.xlsx')\n",
    "\n",
    "\n",
    "OutputR2Score(LogicFeatures)"
   ]
  },
  {
   "cell_type": "code",
   "execution_count": 478,
   "metadata": {},
   "outputs": [],
   "source": [
    "from sklearn.model_selection import KFold, cross_val_score"
   ]
  },
  {
   "cell_type": "code",
   "execution_count": 495,
   "metadata": {},
   "outputs": [],
   "source": [
    "from sklearn.model_selection import KFold, cross_val_score\n",
    "def crossValidation(model, X, y, split_num):\n",
    "    k_fold = KFold(n_splits=split_num)\n",
    "    for train_indices, test_indices in k_fold.split(X):\n",
    "        print('Train: %s | test: %s' % (train_indices, test_indices))\n",
    "    return cross_val_score(model, X, y, cv=k_fold, n_jobs = -1)"
   ]
  },
  {
   "cell_type": "code",
   "execution_count": 480,
   "metadata": {},
   "outputs": [],
   "source": [
    "mod = LinearRegressor(LogicFeatures, random2)[0]"
   ]
  },
  {
   "cell_type": "code",
   "execution_count": 481,
   "metadata": {},
   "outputs": [],
   "source": [
    "X,y = LogicFeatures.iloc[:,:-1], LogicFeatures.iloc[:, -1]"
   ]
  },
  {
   "cell_type": "code",
   "execution_count": 491,
   "metadata": {},
   "outputs": [],
   "source": [
    "crossvalmean= dict()\n",
    "for i in range(3,15):\n",
    "    crossvalmean[i] = crossValidation(mod, X,y,i).std()"
   ]
  },
  {
   "cell_type": "code",
   "execution_count": 496,
   "metadata": {
    "scrolled": true
   },
   "outputs": [
    {
     "name": "stdout",
     "output_type": "stream",
     "text": [
      "Train: [ 11  12  13  14  15  16  17  18  19  20  21  22  23  24  25  26  27  28\n",
      "  29  30  31  32  33  34  35  36  37  38  39  40  41  42  43  44  45  46\n",
      "  47  48  49  50  51  52  53  54  55  56  57  58  59  60  61  62  63  64\n",
      "  65  66  67  68  69  70  71  72  73  74  75  76  77  78  79  80  81  82\n",
      "  83  84  85  86  87  88  89  90  91  92  93  94  95  96  97  98  99 100\n",
      " 101 102 103 104 105 106 107 108 109 110 111 112 113 114 115 116 117 118\n",
      " 119 120 121 122] | test: [ 0  1  2  3  4  5  6  7  8  9 10]\n",
      "Train: [  0   1   2   3   4   5   6   7   8   9  10  22  23  24  25  26  27  28\n",
      "  29  30  31  32  33  34  35  36  37  38  39  40  41  42  43  44  45  46\n",
      "  47  48  49  50  51  52  53  54  55  56  57  58  59  60  61  62  63  64\n",
      "  65  66  67  68  69  70  71  72  73  74  75  76  77  78  79  80  81  82\n",
      "  83  84  85  86  87  88  89  90  91  92  93  94  95  96  97  98  99 100\n",
      " 101 102 103 104 105 106 107 108 109 110 111 112 113 114 115 116 117 118\n",
      " 119 120 121 122] | test: [11 12 13 14 15 16 17 18 19 20 21]\n",
      "Train: [  0   1   2   3   4   5   6   7   8   9  10  11  12  13  14  15  16  17\n",
      "  18  19  20  21  33  34  35  36  37  38  39  40  41  42  43  44  45  46\n",
      "  47  48  49  50  51  52  53  54  55  56  57  58  59  60  61  62  63  64\n",
      "  65  66  67  68  69  70  71  72  73  74  75  76  77  78  79  80  81  82\n",
      "  83  84  85  86  87  88  89  90  91  92  93  94  95  96  97  98  99 100\n",
      " 101 102 103 104 105 106 107 108 109 110 111 112 113 114 115 116 117 118\n",
      " 119 120 121 122] | test: [22 23 24 25 26 27 28 29 30 31 32]\n",
      "Train: [  0   1   2   3   4   5   6   7   8   9  10  11  12  13  14  15  16  17\n",
      "  18  19  20  21  22  23  24  25  26  27  28  29  30  31  32  43  44  45\n",
      "  46  47  48  49  50  51  52  53  54  55  56  57  58  59  60  61  62  63\n",
      "  64  65  66  67  68  69  70  71  72  73  74  75  76  77  78  79  80  81\n",
      "  82  83  84  85  86  87  88  89  90  91  92  93  94  95  96  97  98  99\n",
      " 100 101 102 103 104 105 106 107 108 109 110 111 112 113 114 115 116 117\n",
      " 118 119 120 121 122] | test: [33 34 35 36 37 38 39 40 41 42]\n",
      "Train: [  0   1   2   3   4   5   6   7   8   9  10  11  12  13  14  15  16  17\n",
      "  18  19  20  21  22  23  24  25  26  27  28  29  30  31  32  33  34  35\n",
      "  36  37  38  39  40  41  42  53  54  55  56  57  58  59  60  61  62  63\n",
      "  64  65  66  67  68  69  70  71  72  73  74  75  76  77  78  79  80  81\n",
      "  82  83  84  85  86  87  88  89  90  91  92  93  94  95  96  97  98  99\n",
      " 100 101 102 103 104 105 106 107 108 109 110 111 112 113 114 115 116 117\n",
      " 118 119 120 121 122] | test: [43 44 45 46 47 48 49 50 51 52]\n",
      "Train: [  0   1   2   3   4   5   6   7   8   9  10  11  12  13  14  15  16  17\n",
      "  18  19  20  21  22  23  24  25  26  27  28  29  30  31  32  33  34  35\n",
      "  36  37  38  39  40  41  42  43  44  45  46  47  48  49  50  51  52  63\n",
      "  64  65  66  67  68  69  70  71  72  73  74  75  76  77  78  79  80  81\n",
      "  82  83  84  85  86  87  88  89  90  91  92  93  94  95  96  97  98  99\n",
      " 100 101 102 103 104 105 106 107 108 109 110 111 112 113 114 115 116 117\n",
      " 118 119 120 121 122] | test: [53 54 55 56 57 58 59 60 61 62]\n",
      "Train: [  0   1   2   3   4   5   6   7   8   9  10  11  12  13  14  15  16  17\n",
      "  18  19  20  21  22  23  24  25  26  27  28  29  30  31  32  33  34  35\n",
      "  36  37  38  39  40  41  42  43  44  45  46  47  48  49  50  51  52  53\n",
      "  54  55  56  57  58  59  60  61  62  73  74  75  76  77  78  79  80  81\n",
      "  82  83  84  85  86  87  88  89  90  91  92  93  94  95  96  97  98  99\n",
      " 100 101 102 103 104 105 106 107 108 109 110 111 112 113 114 115 116 117\n",
      " 118 119 120 121 122] | test: [63 64 65 66 67 68 69 70 71 72]\n",
      "Train: [  0   1   2   3   4   5   6   7   8   9  10  11  12  13  14  15  16  17\n",
      "  18  19  20  21  22  23  24  25  26  27  28  29  30  31  32  33  34  35\n",
      "  36  37  38  39  40  41  42  43  44  45  46  47  48  49  50  51  52  53\n",
      "  54  55  56  57  58  59  60  61  62  63  64  65  66  67  68  69  70  71\n",
      "  72  83  84  85  86  87  88  89  90  91  92  93  94  95  96  97  98  99\n",
      " 100 101 102 103 104 105 106 107 108 109 110 111 112 113 114 115 116 117\n",
      " 118 119 120 121 122] | test: [73 74 75 76 77 78 79 80 81 82]\n",
      "Train: [  0   1   2   3   4   5   6   7   8   9  10  11  12  13  14  15  16  17\n",
      "  18  19  20  21  22  23  24  25  26  27  28  29  30  31  32  33  34  35\n",
      "  36  37  38  39  40  41  42  43  44  45  46  47  48  49  50  51  52  53\n",
      "  54  55  56  57  58  59  60  61  62  63  64  65  66  67  68  69  70  71\n",
      "  72  73  74  75  76  77  78  79  80  81  82  93  94  95  96  97  98  99\n",
      " 100 101 102 103 104 105 106 107 108 109 110 111 112 113 114 115 116 117\n",
      " 118 119 120 121 122] | test: [83 84 85 86 87 88 89 90 91 92]\n",
      "Train: [  0   1   2   3   4   5   6   7   8   9  10  11  12  13  14  15  16  17\n",
      "  18  19  20  21  22  23  24  25  26  27  28  29  30  31  32  33  34  35\n",
      "  36  37  38  39  40  41  42  43  44  45  46  47  48  49  50  51  52  53\n",
      "  54  55  56  57  58  59  60  61  62  63  64  65  66  67  68  69  70  71\n",
      "  72  73  74  75  76  77  78  79  80  81  82  83  84  85  86  87  88  89\n",
      "  90  91  92 103 104 105 106 107 108 109 110 111 112 113 114 115 116 117\n",
      " 118 119 120 121 122] | test: [ 93  94  95  96  97  98  99 100 101 102]\n",
      "Train: [  0   1   2   3   4   5   6   7   8   9  10  11  12  13  14  15  16  17\n",
      "  18  19  20  21  22  23  24  25  26  27  28  29  30  31  32  33  34  35\n",
      "  36  37  38  39  40  41  42  43  44  45  46  47  48  49  50  51  52  53\n",
      "  54  55  56  57  58  59  60  61  62  63  64  65  66  67  68  69  70  71\n",
      "  72  73  74  75  76  77  78  79  80  81  82  83  84  85  86  87  88  89\n",
      "  90  91  92  93  94  95  96  97  98  99 100 101 102 113 114 115 116 117\n",
      " 118 119 120 121 122] | test: [103 104 105 106 107 108 109 110 111 112]\n",
      "Train: [  0   1   2   3   4   5   6   7   8   9  10  11  12  13  14  15  16  17\n",
      "  18  19  20  21  22  23  24  25  26  27  28  29  30  31  32  33  34  35\n",
      "  36  37  38  39  40  41  42  43  44  45  46  47  48  49  50  51  52  53\n",
      "  54  55  56  57  58  59  60  61  62  63  64  65  66  67  68  69  70  71\n",
      "  72  73  74  75  76  77  78  79  80  81  82  83  84  85  86  87  88  89\n",
      "  90  91  92  93  94  95  96  97  98  99 100 101 102 103 104 105 106 107\n",
      " 108 109 110 111 112] | test: [113 114 115 116 117 118 119 120 121 122]\n"
     ]
    },
    {
     "data": {
      "text/plain": [
       "array([-0.0327021 ,  0.29232538,  0.5092286 , -0.37689899, -0.40123029,\n",
       "       -1.50812712, -2.62545641, -1.29979903, -0.60915072, -0.135998  ,\n",
       "        0.14861284, -8.72376094])"
      ]
     },
     "execution_count": 496,
     "metadata": {},
     "output_type": "execute_result"
    }
   ],
   "source": [
    "crossValidation(mod, X,y,12)"
   ]
  },
  {
   "cell_type": "code",
   "execution_count": 520,
   "metadata": {},
   "outputs": [],
   "source": [
    "def pretty_print_coefs(intercept, coefs, columns):\n",
    "    lst = zip(coefs, columns)\n",
    "    return str(intercept) + ' ' + \" + \".join(\"%s * %s\" % (round(coef, 3), name)\n",
    "                                   for coef, name in lst)"
   ]
  },
  {
   "cell_type": "code",
   "execution_count": 510,
   "metadata": {},
   "outputs": [
    {
     "data": {
      "text/plain": [
       "0     22\n",
       "1     23\n",
       "2     24\n",
       "3     25\n",
       "4     26\n",
       "5     27\n",
       "6     28\n",
       "7     29\n",
       "8     30\n",
       "9     31\n",
       "10    32\n",
       "dtype: int64"
      ]
     },
     "execution_count": 510,
     "metadata": {},
     "output_type": "execute_result"
    }
   ],
   "source": [
    "train = pd.Series(np.arange(0,22)).append(pd.Series(np.arange(33,123)))\n",
    "test = pd.Series(np.arange(22,33))\n",
    "test"
   ]
  },
  {
   "cell_type": "code",
   "execution_count": 508,
   "metadata": {},
   "outputs": [
    {
     "data": {
      "text/plain": [
       "0.5092286040687379"
      ]
     },
     "execution_count": 508,
     "metadata": {},
     "output_type": "execute_result"
    }
   ],
   "source": [
    "mod.fit(X.iloc[train], y.iloc[train])\n",
    "mod.score(X.iloc[test], y.iloc[test])"
   ]
  },
  {
   "cell_type": "code",
   "execution_count": 521,
   "metadata": {},
   "outputs": [
    {
     "data": {
      "text/plain": [
       "'2.2058130556782505 -0.616 * Year+1 Intl. + 0.05 * Year+1 Batting Avg Death + -0.118 * Year Not Outs + -0.001 * Year+1 Age ** 2 + -0.126 * Year Total 4s + 0.055 * Year+1 Total 4s + 0.04 * Year Total 6s + 0.095 * Year+1 Total 6s + 0.032 * Year Batting Avg T20I + 0.018 * Year+1 Batting Avg T20I + 0.175 * Year Batting Avg + 0.051 * Year+1 Batting Avg + -0.096 * Year Not Outs ** 2 + 0.004 * Year Batting Strike Rate PowerPlay + -0.635 * Year+1 Total 100s ** 2 + -0.441 * Year+1 Not Outs + -0.055 * Year+1 Not Outs ** 2 + 0.013 * Year Matches ** 2 + -0.004 * Year+1 Matches ** 2 + -0.001 * Year Highest Score'"
      ]
     },
     "execution_count": 521,
     "metadata": {},
     "output_type": "execute_result"
    }
   ],
   "source": [
    "pretty_print_coefs(mod.intercept_, mod.coef_, X.columns)"
   ]
  },
  {
   "cell_type": "code",
   "execution_count": 650,
   "metadata": {},
   "outputs": [],
   "source": [
    "y_pred = mod.predict(X)"
   ]
  },
  {
   "cell_type": "code",
   "execution_count": 651,
   "metadata": {},
   "outputs": [],
   "source": [
    "InputOutputBatsman = pd.DataFrame(columns = ['Player Name','Season Year+2','IPL Pts per Match Year+2', 'Predicted Points', 'Actual Salary Year+2'])"
   ]
  },
  {
   "cell_type": "code",
   "execution_count": 652,
   "metadata": {},
   "outputs": [],
   "source": [
    "InputOutputBatsman['IPL Pts per Match Year+2'] = y\n",
    "InputOutputBatsman['Predicted Points'] = y_pred\n"
   ]
  },
  {
   "cell_type": "code",
   "execution_count": 663,
   "metadata": {},
   "outputs": [],
   "source": [
    "InputOutputBatsman.to_excel('InputOutputBatsman.xlsx')"
   ]
  },
  {
   "cell_type": "code",
   "execution_count": 653,
   "metadata": {},
   "outputs": [
    {
     "data": {
      "text/html": [
       "<div>\n",
       "<style scoped>\n",
       "    .dataframe tbody tr th:only-of-type {\n",
       "        vertical-align: middle;\n",
       "    }\n",
       "\n",
       "    .dataframe tbody tr th {\n",
       "        vertical-align: top;\n",
       "    }\n",
       "\n",
       "    .dataframe thead th {\n",
       "        text-align: right;\n",
       "    }\n",
       "</style>\n",
       "<table border=\"1\" class=\"dataframe\">\n",
       "  <thead>\n",
       "    <tr style=\"text-align: right;\">\n",
       "      <th></th>\n",
       "      <th>Player Name</th>\n",
       "      <th>Season Year+2</th>\n",
       "      <th>IPL Pts per Match Year+2</th>\n",
       "      <th>Predicted Points</th>\n",
       "      <th>Actual Salary Year+2</th>\n",
       "    </tr>\n",
       "  </thead>\n",
       "  <tbody>\n",
       "    <tr>\n",
       "      <th>0</th>\n",
       "      <td>NaN</td>\n",
       "      <td>NaN</td>\n",
       "      <td>15.437500</td>\n",
       "      <td>11.000187</td>\n",
       "      <td>NaN</td>\n",
       "    </tr>\n",
       "    <tr>\n",
       "      <th>1</th>\n",
       "      <td>NaN</td>\n",
       "      <td>NaN</td>\n",
       "      <td>19.968750</td>\n",
       "      <td>19.260125</td>\n",
       "      <td>NaN</td>\n",
       "    </tr>\n",
       "    <tr>\n",
       "      <th>2</th>\n",
       "      <td>NaN</td>\n",
       "      <td>NaN</td>\n",
       "      <td>11.222222</td>\n",
       "      <td>14.357737</td>\n",
       "      <td>NaN</td>\n",
       "    </tr>\n",
       "    <tr>\n",
       "      <th>3</th>\n",
       "      <td>NaN</td>\n",
       "      <td>NaN</td>\n",
       "      <td>18.125000</td>\n",
       "      <td>14.534739</td>\n",
       "      <td>NaN</td>\n",
       "    </tr>\n",
       "    <tr>\n",
       "      <th>4</th>\n",
       "      <td>NaN</td>\n",
       "      <td>NaN</td>\n",
       "      <td>3.333333</td>\n",
       "      <td>8.796313</td>\n",
       "      <td>NaN</td>\n",
       "    </tr>\n",
       "    <tr>\n",
       "      <th>...</th>\n",
       "      <td>...</td>\n",
       "      <td>...</td>\n",
       "      <td>...</td>\n",
       "      <td>...</td>\n",
       "      <td>...</td>\n",
       "    </tr>\n",
       "    <tr>\n",
       "      <th>118</th>\n",
       "      <td>NaN</td>\n",
       "      <td>NaN</td>\n",
       "      <td>5.062500</td>\n",
       "      <td>9.602786</td>\n",
       "      <td>NaN</td>\n",
       "    </tr>\n",
       "    <tr>\n",
       "      <th>119</th>\n",
       "      <td>NaN</td>\n",
       "      <td>NaN</td>\n",
       "      <td>7.857143</td>\n",
       "      <td>10.476751</td>\n",
       "      <td>NaN</td>\n",
       "    </tr>\n",
       "    <tr>\n",
       "      <th>120</th>\n",
       "      <td>NaN</td>\n",
       "      <td>NaN</td>\n",
       "      <td>8.416667</td>\n",
       "      <td>11.239765</td>\n",
       "      <td>NaN</td>\n",
       "    </tr>\n",
       "    <tr>\n",
       "      <th>121</th>\n",
       "      <td>NaN</td>\n",
       "      <td>NaN</td>\n",
       "      <td>7.714286</td>\n",
       "      <td>10.185786</td>\n",
       "      <td>NaN</td>\n",
       "    </tr>\n",
       "    <tr>\n",
       "      <th>122</th>\n",
       "      <td>NaN</td>\n",
       "      <td>NaN</td>\n",
       "      <td>5.545455</td>\n",
       "      <td>8.000319</td>\n",
       "      <td>NaN</td>\n",
       "    </tr>\n",
       "  </tbody>\n",
       "</table>\n",
       "<p>123 rows × 5 columns</p>\n",
       "</div>"
      ],
      "text/plain": [
       "    Player Name Season Year+2  IPL Pts per Match Year+2  Predicted Points  \\\n",
       "0           NaN           NaN                 15.437500         11.000187   \n",
       "1           NaN           NaN                 19.968750         19.260125   \n",
       "2           NaN           NaN                 11.222222         14.357737   \n",
       "3           NaN           NaN                 18.125000         14.534739   \n",
       "4           NaN           NaN                  3.333333          8.796313   \n",
       "..          ...           ...                       ...               ...   \n",
       "118         NaN           NaN                  5.062500          9.602786   \n",
       "119         NaN           NaN                  7.857143         10.476751   \n",
       "120         NaN           NaN                  8.416667         11.239765   \n",
       "121         NaN           NaN                  7.714286         10.185786   \n",
       "122         NaN           NaN                  5.545455          8.000319   \n",
       "\n",
       "    Actual Salary Year+2  \n",
       "0                    NaN  \n",
       "1                    NaN  \n",
       "2                    NaN  \n",
       "3                    NaN  \n",
       "4                    NaN  \n",
       "..                   ...  \n",
       "118                  NaN  \n",
       "119                  NaN  \n",
       "120                  NaN  \n",
       "121                  NaN  \n",
       "122                  NaN  \n",
       "\n",
       "[123 rows x 5 columns]"
      ]
     },
     "execution_count": 653,
     "metadata": {},
     "output_type": "execute_result"
    }
   ],
   "source": [
    "InputOutputBatsman"
   ]
  },
  {
   "cell_type": "code",
   "execution_count": 654,
   "metadata": {},
   "outputs": [],
   "source": [
    "Batsman_Table2 = pd.read_excel('Squared_Batsman.xlsx')"
   ]
  },
  {
   "cell_type": "code",
   "execution_count": 655,
   "metadata": {},
   "outputs": [],
   "source": [
    "Batsman_Table2.set_index(np.arange(len(Batsman_Table2)), inplace = True)"
   ]
  },
  {
   "cell_type": "code",
   "execution_count": 656,
   "metadata": {},
   "outputs": [
    {
     "name": "stderr",
     "output_type": "stream",
     "text": [
      "/opt/anaconda3/lib/python3.7/site-packages/ipykernel_launcher.py:4: SettingWithCopyWarning: \n",
      "A value is trying to be set on a copy of a slice from a DataFrame\n",
      "\n",
      "See the caveats in the documentation: https://pandas.pydata.org/pandas-docs/stable/user_guide/indexing.html#returning-a-view-versus-a-copy\n",
      "  after removing the cwd from sys.path.\n",
      "/opt/anaconda3/lib/python3.7/site-packages/ipykernel_launcher.py:5: SettingWithCopyWarning: \n",
      "A value is trying to be set on a copy of a slice from a DataFrame\n",
      "\n",
      "See the caveats in the documentation: https://pandas.pydata.org/pandas-docs/stable/user_guide/indexing.html#returning-a-view-versus-a-copy\n",
      "  \"\"\"\n"
     ]
    }
   ],
   "source": [
    "for i in range(len(InputOutputBatsman)):\n",
    "    for count in range(len(Batsman_Table2)):\n",
    "        if InputOutputBatsman['IPL Pts per Match Year+2'][i] == Batsman_Table2['IPL Pts per Match Year+2'][count]:\n",
    "            InputOutputBatsman['Player Name'][i] = Batsman_Table2['Player Name'][count]\n",
    "            InputOutputBatsman['Season Year+2'][i] = Batsman_Table2['Year+1 Season'][count]+1"
   ]
  },
  {
   "cell_type": "code",
   "execution_count": 657,
   "metadata": {},
   "outputs": [],
   "source": [
    "InputOutputBatsman['Player Name'] = Batsman_Table2['Player Name']"
   ]
  },
  {
   "cell_type": "code",
   "execution_count": 658,
   "metadata": {},
   "outputs": [],
   "source": [
    "def ActualSalary(Season, player):\n",
    "    master = pd.read_excel(str(Season)+'FinalMasterSheet.xlsx', header=1)\n",
    "    for count in range(len(master)):\n",
    "        if master['Player Name'][count] == str(player):\n",
    "            return master['Salary(Rupees Crore)'][count]"
   ]
  },
  {
   "cell_type": "code",
   "execution_count": 661,
   "metadata": {},
   "outputs": [
    {
     "name": "stderr",
     "output_type": "stream",
     "text": [
      "/opt/anaconda3/lib/python3.7/site-packages/ipykernel_launcher.py:3: SettingWithCopyWarning: \n",
      "A value is trying to be set on a copy of a slice from a DataFrame\n",
      "\n",
      "See the caveats in the documentation: https://pandas.pydata.org/pandas-docs/stable/user_guide/indexing.html#returning-a-view-versus-a-copy\n",
      "  This is separate from the ipykernel package so we can avoid doing imports until\n",
      "/opt/anaconda3/lib/python3.7/site-packages/ipykernel_launcher.py:5: SettingWithCopyWarning: \n",
      "A value is trying to be set on a copy of a slice from a DataFrame\n",
      "\n",
      "See the caveats in the documentation: https://pandas.pydata.org/pandas-docs/stable/user_guide/indexing.html#returning-a-view-versus-a-copy\n",
      "  \"\"\"\n"
     ]
    }
   ],
   "source": [
    "for count in range(len(InputOutputBatsman)):\n",
    "    if InputOutputBatsman['Season Year+2'][count] != 2020:\n",
    "        InputOutputBatsman['Actual Salary Year+2'][count] = ActualSalary(InputOutputBatsman['Season Year+2'][count],InputOutputBatsman['Player Name'][count] )\n",
    "    else:\n",
    "        InputOutputBatsman['Actual Salary Year+2'][count] = 'None'"
   ]
  },
  {
   "cell_type": "code",
   "execution_count": null,
   "metadata": {},
   "outputs": [],
   "source": []
  },
  {
   "cell_type": "code",
   "execution_count": null,
   "metadata": {},
   "outputs": [],
   "source": []
  }
 ],
 "metadata": {
  "kernelspec": {
   "display_name": "Python 3",
   "language": "python",
   "name": "python3"
  },
  "language_info": {
   "codemirror_mode": {
    "name": "ipython",
    "version": 3
   },
   "file_extension": ".py",
   "mimetype": "text/x-python",
   "name": "python",
   "nbconvert_exporter": "python",
   "pygments_lexer": "ipython3",
   "version": "3.7.6"
  }
 },
 "nbformat": 4,
 "nbformat_minor": 4
}

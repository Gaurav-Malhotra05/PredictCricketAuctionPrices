{
 "cells": [
  {
   "cell_type": "code",
   "execution_count": 50,
   "metadata": {},
   "outputs": [],
   "source": [
    "import numpy as np\n",
    "import pandas as pd\n",
    "from pandas_datareader import data, wb"
   ]
  },
  {
   "cell_type": "code",
   "execution_count": 51,
   "metadata": {},
   "outputs": [],
   "source": [
    "mostwickets = pd.read_html('https://www.iplt20.com/stats/2013/most-wickets')\n",
    "df1 = mostwickets[0]"
   ]
  },
  {
   "cell_type": "code",
   "execution_count": 52,
   "metadata": {},
   "outputs": [],
   "source": [
    "mostmaidens = pd.read_html('https://www.iplt20.com/stats/2013/most-maidens')\n",
    "df2 = mostmaidens[0]"
   ]
  },
  {
   "cell_type": "code",
   "execution_count": 53,
   "metadata": {},
   "outputs": [],
   "source": [
    "mostdotballs = pd.read_html('https://www.iplt20.com/stats/2013/most-dot-balls')\n",
    "df3 = mostdotballs[0]"
   ]
  },
  {
   "cell_type": "code",
   "execution_count": 54,
   "metadata": {},
   "outputs": [],
   "source": [
    "bestbowlingavg = pd.read_html('https://www.iplt20.com/stats/2013/best-bowling-average')\n",
    "df4 = bestbowlingavg[0]"
   ]
  },
  {
   "cell_type": "code",
   "execution_count": 55,
   "metadata": {},
   "outputs": [],
   "source": [
    "bestbowlingecon = pd.read_html('https://www.iplt20.com/stats/2013/best-bowling-economy')\n",
    "df5 = bestbowlingecon[0]"
   ]
  },
  {
   "cell_type": "code",
   "execution_count": 56,
   "metadata": {},
   "outputs": [],
   "source": [
    "bestbowlingsr = pd.read_html('https://www.iplt20.com/stats/2013/best-bowling-strike-rate')\n",
    "df6 = bestbowlingsr[0]"
   ]
  },
  {
   "cell_type": "code",
   "execution_count": 57,
   "metadata": {},
   "outputs": [],
   "source": [
    "mosthattricks = pd.read_html('https://www.iplt20.com/stats/2013/most-hat-tricks')\n",
    "df7 = mosthattricks[0]"
   ]
  },
  {
   "cell_type": "code",
   "execution_count": 58,
   "metadata": {},
   "outputs": [],
   "source": [
    "fourwickets = pd.read_html('https://www.iplt20.com/stats/2013/most-four-wickets')\n",
    "df8 = fourwickets[0]\n",
    "unique = df8['PLAYER'].unique()\n",
    "df8 = df8.drop(range(2,5)).iloc[:2]"
   ]
  },
  {
   "cell_type": "code",
   "execution_count": 60,
   "metadata": {},
   "outputs": [],
   "source": [
    "playerpoints = pd.read_html('https://www.iplt20.com/stats/2013/player-points')\n",
    "df9 = playerpoints[0]"
   ]
  },
  {
   "cell_type": "code",
   "execution_count": null,
   "metadata": {},
   "outputs": [],
   "source": []
  },
  {
   "cell_type": "code",
   "execution_count": 61,
   "metadata": {},
   "outputs": [],
   "source": [
    "writer = pd.ExcelWriter('2013_Bowling.xlsx')\n",
    "df1.to_excel(writer, 'Most Wickets')\n",
    "df2.to_excel(writer, 'Most Maidens')\n",
    "df3.to_excel(writer, 'Most Dot Balls')\n",
    "df4.to_excel(writer, 'Best Bowling Average')\n",
    "df5.to_excel(writer, 'Best Bowling Economy')\n",
    "df6.to_excel(writer, 'Best Bowling Strike Rate')\n",
    "df7.to_excel(writer, 'Most Hat Tricks')\n",
    "df8.to_excel(writer, 'Four Wickets')\n",
    "df9.to_excel(writer, 'Player Points')\n",
    "\n",
    "writer.save()"
   ]
  },
  {
   "cell_type": "code",
   "execution_count": null,
   "metadata": {},
   "outputs": [],
   "source": []
  }
 ],
 "metadata": {
  "kernelspec": {
   "display_name": "Python 3",
   "language": "python",
   "name": "python3"
  },
  "language_info": {
   "codemirror_mode": {
    "name": "ipython",
    "version": 3
   },
   "file_extension": ".py",
   "mimetype": "text/x-python",
   "name": "python",
   "nbconvert_exporter": "python",
   "pygments_lexer": "ipython3",
   "version": "3.7.4"
  }
 },
 "nbformat": 4,
 "nbformat_minor": 2
}

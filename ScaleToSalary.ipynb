{
 "cells": [
  {
   "cell_type": "code",
   "execution_count": 1,
   "metadata": {},
   "outputs": [],
   "source": [
    "import numpy as np\n",
    "import pandas as pd\n",
    "import matplotlib.pyplot as plt"
   ]
  },
  {
   "cell_type": "code",
   "execution_count": 2,
   "metadata": {},
   "outputs": [],
   "source": [
    "def InputToOutput(df, budget, no_of_players, WorstSalary):\n",
    "    mean = np.mean(df['Predicted Points'])\n",
    "    stddev = np.std(df['Predicted Points'])\n",
    "    df['Standardised Predicted Points'] = 0.0\n",
    "    df['Difference'] = 0.0\n",
    "    for count in df.index:\n",
    "        df['Standardised Predicted Points'][count] = (df['Predicted Points'][count] - mean)/stddev\n",
    "    for count in df.index:\n",
    "        df['Difference'][count] = df['Standardised Predicted Points'][count] - min(df['Standardised Predicted Points'])\n",
    "    \n",
    "    AvgSalary = int(budget/no_of_players)\n",
    "    RsPerPoint = (AvgSalary - WorstSalary)/(-1*min(df['Standardised Predicted Points']))\n",
    "    df['Predicted Salary'] = 0\n",
    "    df['Actual - Predicted'] = 0\n",
    "    for count in df.index:\n",
    "        df['Predicted Salary'][count] = WorstSalary + (df['Difference'][count]*RsPerPoint)\n",
    "        df['Actual - Predicted'][count] = (df['Actual Salary Year+2'][count]*10**7) - df['Predicted Salary'][count]\n",
    "    \n",
    "    temp = pd.DataFrame(df['Actual - Predicted']/(df['Actual Salary Year+2']*(10**7)))\n",
    "        \n",
    "    return df, temp[temp[temp.columns[0]] > -8], np.mean(df['Actual - Predicted']/(df['Actual Salary Year+2']*(10**7)))"
   ]
  },
  {
   "cell_type": "code",
   "execution_count": 3,
   "metadata": {},
   "outputs": [],
   "source": [
    "Batsman = pd.read_excel('BatsmanPredictedandActualFinal.xlsx')\n",
    "Bowler = pd.read_excel('BowlerPredictedandActualFinal.xlsx')\n",
    "AllRounder = pd.read_excel('AllRounderPredictedandActualFinal.xlsx')"
   ]
  },
  {
   "cell_type": "code",
   "execution_count": 4,
   "metadata": {},
   "outputs": [],
   "source": [
    "BatBudgetDict = {'2020': 30.6*10**7, '2019':29.52*10**7, '2018':28.8*10**7, '2017':23.76*10**7, '2016':23.76*10**7, '2015':22.68*10**7, '2014':21.6*10**7}"
   ]
  },
  {
   "cell_type": "code",
   "execution_count": 5,
   "metadata": {},
   "outputs": [],
   "source": [
    "BowlBudgetDict = {'2020':20.4*10**7, '2019':19.68*10**7, '2018':19.2*10**7, '2017':15.84*10**7, '2016':15.84*10**7, '2015':15.12*10**7, '2014':14.4*10**7}\n"
   ]
  },
  {
   "cell_type": "code",
   "execution_count": 6,
   "metadata": {},
   "outputs": [],
   "source": [
    "AllRoundBudgetDict = {'2020':34*10**7, '2019':32.8*10**7, '2018':32*10**7, '2017':26.4*10**7, '2016':26.4*10**7, '2015':25.2*10**7, '2014':24*10**7}\n"
   ]
  },
  {
   "cell_type": "code",
   "execution_count": 60,
   "metadata": {},
   "outputs": [],
   "source": [
    "table = pd.read_excel('IPL_Teams_DivisionRoles.xlsx', header = 25)"
   ]
  },
  {
   "cell_type": "code",
   "execution_count": 69,
   "metadata": {},
   "outputs": [
    {
     "data": {
      "text/plain": [
       "382500000.0"
      ]
     },
     "execution_count": 69,
     "metadata": {},
     "output_type": "execute_result"
    }
   ],
   "source": [
    "table[table.columns[1+2]][6]"
   ]
  },
  {
   "cell_type": "code",
   "execution_count": 72,
   "metadata": {},
   "outputs": [],
   "source": [
    "for index in range(len(table.columns)):\n",
    "    for count in range(len(table)):\n",
    "        if str(table[table.columns[index]][count]).strip() == \"Batsman\":\n",
    "            BatBudgetDict['2020'] = table[table.columns[index+3]][count]\n",
    "            BatBudgetDict['2019'] = table[table.columns[index+4]][count]\n",
    "            BatBudgetDict['2018'] = table[table.columns[index+5]][count]\n",
    "            BatBudgetDict['2017'] = table[table.columns[index+6]][count]\n",
    "            BatBudgetDict['2016'] = table[table.columns[index+7]][count]\n",
    "            BatBudgetDict['2015'] = table[table.columns[index+8]][count]\n",
    "            BatBudgetDict['2014'] = table[table.columns[index+9]][count]\n",
    "        \n",
    "        if str(table[table.columns[index]][count]).strip() == \"Bowler\":\n",
    "            BowlBudgetDict['2020'] = table[table.columns[index+3]][count]\n",
    "            BowlBudgetDict['2019'] = table[table.columns[index+4]][count]\n",
    "            BowlBudgetDict['2018'] = table[table.columns[index+5]][count]\n",
    "            BowlBudgetDict['2017'] = table[table.columns[index+6]][count]\n",
    "            BowlBudgetDict['2016'] = table[table.columns[index+7]][count]\n",
    "            BowlBudgetDict['2015'] = table[table.columns[index+8]][count]\n",
    "            BowlBudgetDict['2014'] = table[table.columns[index+9]][count]\n",
    "     \n",
    "        if str(table[table.columns[index]][count]).strip() == \"All Rounder\":\n",
    "            AllRoundBudgetDict['2020'] = table[table.columns[index+3]][count]\n",
    "            AllRoundBudgetDict['2019'] = table[table.columns[index+4]][count]\n",
    "            AllRoundBudgetDict['2018'] = table[table.columns[index+5]][count]\n",
    "            AllRoundBudgetDict['2017'] = table[table.columns[index+6]][count]\n",
    "            AllRoundBudgetDict['2016'] = table[table.columns[index+7]][count]\n",
    "            AllRoundBudgetDict['2015'] = table[table.columns[index+8]][count]\n",
    "            AllRoundBudgetDict['2014'] = table[table.columns[index+9]][count]\n",
    "        "
   ]
  },
  {
   "cell_type": "code",
   "execution_count": 73,
   "metadata": {},
   "outputs": [
    {
     "data": {
      "text/plain": [
       "{'2020': 212500000.0,\n",
       " '2019': 205000000.0,\n",
       " '2018': 200000000.0,\n",
       " '2017': 165000000.0,\n",
       " '2016': 165000000.0,\n",
       " '2015': 157500000.0,\n",
       " '2014': 150000000.0}"
      ]
     },
     "execution_count": 73,
     "metadata": {},
     "output_type": "execute_result"
    }
   ],
   "source": []
  },
  {
   "cell_type": "code",
   "execution_count": null,
   "metadata": {},
   "outputs": [],
   "source": [
    "def Dictionary():\n",
    "    for count in range()"
   ]
  },
  {
   "cell_type": "code",
   "execution_count": 16,
   "metadata": {},
   "outputs": [],
   "source": [
    "def BatsmanOutput(Season):\n",
    "    InputToOutput(Batsman, BatBudgetDict[str(Season)], 8, 1000000)\n",
    "def BowlerOutput(Season):\n",
    "    InputToOutput(Bowler, BowlBudgetDict[str(Season)], 10, 1000000)\n",
    "def AllRoundOutput(Season):\n",
    "    InputToOutput(AllRounder, AllRoundBudgetDict[str(Season)], 9, 1000000)"
   ]
  },
  {
   "cell_type": "code",
   "execution_count": null,
   "metadata": {},
   "outputs": [],
   "source": []
  },
  {
   "cell_type": "code",
   "execution_count": 38,
   "metadata": {},
   "outputs": [
    {
     "name": "stderr",
     "output_type": "stream",
     "text": [
      "/opt/anaconda3/lib/python3.7/site-packages/ipykernel_launcher.py:7: SettingWithCopyWarning: \n",
      "A value is trying to be set on a copy of a slice from a DataFrame\n",
      "\n",
      "See the caveats in the documentation: https://pandas.pydata.org/pandas-docs/stable/user_guide/indexing.html#returning-a-view-versus-a-copy\n",
      "  import sys\n",
      "/opt/anaconda3/lib/python3.7/site-packages/ipykernel_launcher.py:9: SettingWithCopyWarning: \n",
      "A value is trying to be set on a copy of a slice from a DataFrame\n",
      "\n",
      "See the caveats in the documentation: https://pandas.pydata.org/pandas-docs/stable/user_guide/indexing.html#returning-a-view-versus-a-copy\n",
      "  if __name__ == '__main__':\n",
      "/opt/anaconda3/lib/python3.7/site-packages/ipykernel_launcher.py:16: SettingWithCopyWarning: \n",
      "A value is trying to be set on a copy of a slice from a DataFrame\n",
      "\n",
      "See the caveats in the documentation: https://pandas.pydata.org/pandas-docs/stable/user_guide/indexing.html#returning-a-view-versus-a-copy\n",
      "  app.launch_new_instance()\n",
      "/opt/anaconda3/lib/python3.7/site-packages/ipykernel_launcher.py:17: SettingWithCopyWarning: \n",
      "A value is trying to be set on a copy of a slice from a DataFrame\n",
      "\n",
      "See the caveats in the documentation: https://pandas.pydata.org/pandas-docs/stable/user_guide/indexing.html#returning-a-view-versus-a-copy\n"
     ]
    },
    {
     "data": {
      "image/png": "[encoded data removed]",
      "text/plain": [
       "<Figure size 432x288 with 1 Axes>"
      ]
     },
     "metadata": {
      "needs_background": "light"
     },
     "output_type": "display_data"
    },
    {
     "data": {
      "image/png": "[encoded data removed]",
      "text/plain": [
       "<Figure size 432x288 with 1 Axes>"
      ]
     },
     "metadata": {
      "needs_background": "light"
     },
     "output_type": "display_data"
    },
    {
     "data": {
      "image/png": "[encoded data removed]",
      "text/plain": [
       "<Figure size 432x288 with 1 Axes>"
      ]
     },
     "metadata": {
      "needs_background": "light"
     },
     "output_type": "display_data"
    },
    {
     "data": {
      "image/png": "[encoded data removed]",
      "text/plain": [
       "<Figure size 432x288 with 1 Axes>"
      ]
     },
     "metadata": {
      "needs_background": "light"
     },
     "output_type": "display_data"
    },
    {
     "name": "stdout",
     "output_type": "stream",
     "text": [
      "Batsman {2015: 0.0775627083868763, 2016: -0.4154935770620323, 2017: -0.7836889737503234, 2018: 0.19625900814078456}\n"
     ]
    }
   ],
   "source": [
    "with pd.ExcelWriter('Year_WiseBatsmanSalaryPredicted.xlsx') as writer:\n",
    "    batsmandict = dict()\n",
    "    for count in range(4):\n",
    "        df = pd.DataFrame(Batsman.groupby('Season Year+2'))[1][count]\n",
    "        Season = pd.DataFrame(Batsman.groupby('Season Year+2'))[0][count]\n",
    "        InputToOutput(df,BatBudgetDict[str(Season)], 8, 1000000)[0].to_excel(writer, sheet_name=str(Season))\n",
    "#         plt.scatter(np.arange(len(InputToOutput(df,BatBudgetDict[str(Season)], 8, 1000000)[1])), InputToOutput(df,BatBudgetDict[str(Season)], 8, 1000000)[1], alpha = 0.8)\n",
    "#         plt.show()\n",
    "        batsmandict[Season] = InputToOutput(df,BatBudgetDict[str(Season)], 8, 1000000)[2]\n",
    "print('Batsman ' + str(batsmandict))"
   ]
  },
  {
   "cell_type": "code",
   "execution_count": 45,
   "metadata": {},
   "outputs": [
    {
     "name": "stderr",
     "output_type": "stream",
     "text": [
      "/opt/anaconda3/lib/python3.7/site-packages/ipykernel_launcher.py:7: SettingWithCopyWarning: \n",
      "A value is trying to be set on a copy of a slice from a DataFrame\n",
      "\n",
      "See the caveats in the documentation: https://pandas.pydata.org/pandas-docs/stable/user_guide/indexing.html#returning-a-view-versus-a-copy\n",
      "  import sys\n",
      "/opt/anaconda3/lib/python3.7/site-packages/ipykernel_launcher.py:9: SettingWithCopyWarning: \n",
      "A value is trying to be set on a copy of a slice from a DataFrame\n",
      "\n",
      "See the caveats in the documentation: https://pandas.pydata.org/pandas-docs/stable/user_guide/indexing.html#returning-a-view-versus-a-copy\n",
      "  if __name__ == '__main__':\n",
      "/opt/anaconda3/lib/python3.7/site-packages/ipykernel_launcher.py:16: SettingWithCopyWarning: \n",
      "A value is trying to be set on a copy of a slice from a DataFrame\n",
      "\n",
      "See the caveats in the documentation: https://pandas.pydata.org/pandas-docs/stable/user_guide/indexing.html#returning-a-view-versus-a-copy\n",
      "  app.launch_new_instance()\n",
      "/opt/anaconda3/lib/python3.7/site-packages/ipykernel_launcher.py:17: SettingWithCopyWarning: \n",
      "A value is trying to be set on a copy of a slice from a DataFrame\n",
      "\n",
      "See the caveats in the documentation: https://pandas.pydata.org/pandas-docs/stable/user_guide/indexing.html#returning-a-view-versus-a-copy\n"
     ]
    },
    {
     "data": {
      "image/png": "[encoded data removed]",
      "text/plain": [
       "<Figure size 432x288 with 1 Axes>"
      ]
     },
     "metadata": {
      "needs_background": "light"
     },
     "output_type": "display_data"
    },
    {
     "data": {
      "image/png": "[encoded data removed]",
      "text/plain": [
       "<Figure size 432x288 with 1 Axes>"
      ]
     },
     "metadata": {
      "needs_background": "light"
     },
     "output_type": "display_data"
    },
    {
     "data": {
      "image/png": "[encoded data removed]",
      "text/plain": [
       "<Figure size 432x288 with 1 Axes>"
      ]
     },
     "metadata": {
      "needs_background": "light"
     },
     "output_type": "display_data"
    },
    {
     "data": {
      "image/png": "[encoded data removed]",
      "text/plain": [
       "<Figure size 432x288 with 1 Axes>"
      ]
     },
     "metadata": {
      "needs_background": "light"
     },
     "output_type": "display_data"
    },
    {
     "name": "stdout",
     "output_type": "stream",
     "text": [
      "Bowler{2015: -0.8344111527531697, 2016: -2.181698138058155, 2017: -2.8217718206153677, 2018: -0.4094808770625924}\n"
     ]
    }
   ],
   "source": [
    "with pd.ExcelWriter('Year_WiseBowlerSalaryPredicted.xlsx') as writer:\n",
    "    bowldict = dict()\n",
    "    for count in range(4):\n",
    "        df = pd.DataFrame(Bowler.groupby('Season Year+2'))[1][count]\n",
    "        Season = pd.DataFrame(Bowler.groupby('Season Year+2'))[0][count]\n",
    "        InputToOutput(df,BowlBudgetDict[str(Season)], 10, 1000000)[0].to_excel(writer, sheet_name=str(Season))\n",
    "#         plt.scatter(np.arange(len(InputToOutput(df,BowlBudgetDict[str(Season)], 10, 1000000)[1])), InputToOutput(df,BowlBudgetDict[str(Season)], 10, 1000000)[1], alpha = 0.8)\n",
    "#         plt.show()\n",
    "        bowldict[Season] = InputToOutput(df,BowlBudgetDict[str(Season)], 10, 1000000)[2]\n",
    "print('Bowler' + str(bowldict))"
   ]
  },
  {
   "cell_type": "code",
   "execution_count": 44,
   "metadata": {},
   "outputs": [
    {
     "name": "stderr",
     "output_type": "stream",
     "text": [
      "/opt/anaconda3/lib/python3.7/site-packages/ipykernel_launcher.py:7: SettingWithCopyWarning: \n",
      "A value is trying to be set on a copy of a slice from a DataFrame\n",
      "\n",
      "See the caveats in the documentation: https://pandas.pydata.org/pandas-docs/stable/user_guide/indexing.html#returning-a-view-versus-a-copy\n",
      "  import sys\n",
      "/opt/anaconda3/lib/python3.7/site-packages/ipykernel_launcher.py:9: SettingWithCopyWarning: \n",
      "A value is trying to be set on a copy of a slice from a DataFrame\n",
      "\n",
      "See the caveats in the documentation: https://pandas.pydata.org/pandas-docs/stable/user_guide/indexing.html#returning-a-view-versus-a-copy\n",
      "  if __name__ == '__main__':\n",
      "/opt/anaconda3/lib/python3.7/site-packages/ipykernel_launcher.py:16: SettingWithCopyWarning: \n",
      "A value is trying to be set on a copy of a slice from a DataFrame\n",
      "\n",
      "See the caveats in the documentation: https://pandas.pydata.org/pandas-docs/stable/user_guide/indexing.html#returning-a-view-versus-a-copy\n",
      "  app.launch_new_instance()\n",
      "/opt/anaconda3/lib/python3.7/site-packages/ipykernel_launcher.py:17: SettingWithCopyWarning: \n",
      "A value is trying to be set on a copy of a slice from a DataFrame\n",
      "\n",
      "See the caveats in the documentation: https://pandas.pydata.org/pandas-docs/stable/user_guide/indexing.html#returning-a-view-versus-a-copy\n"
     ]
    },
    {
     "data": {
      "image/png": "[encoded data removed]",
      "text/plain": [
       "<Figure size 432x288 with 1 Axes>"
      ]
     },
     "metadata": {
      "needs_background": "light"
     },
     "output_type": "display_data"
    },
    {
     "data": {
      "image/png": "[encoded data removed]",
      "text/plain": [
       "<Figure size 432x288 with 1 Axes>"
      ]
     },
     "metadata": {
      "needs_background": "light"
     },
     "output_type": "display_data"
    },
    {
     "data": {
      "image/png": "[encoded data removed]",
      "text/plain": [
       "<Figure size 432x288 with 1 Axes>"
      ]
     },
     "metadata": {
      "needs_background": "light"
     },
     "output_type": "display_data"
    },
    {
     "data": {
      "image/png": "[encoded data removed]",
      "text/plain": [
       "<Figure size 432x288 with 1 Axes>"
      ]
     },
     "metadata": {
      "needs_background": "light"
     },
     "output_type": "display_data"
    },
    {
     "name": "stdout",
     "output_type": "stream",
     "text": [
      "{2015: -0.3710735012883544, 2016: -2.263162264649383, 2017: -2.2954457844980163, 2018: -0.49525825898457526}\n"
     ]
    }
   ],
   "source": [
    "with pd.ExcelWriter('Year_WiseAllRounderSalaryPredicted.xlsx') as writer:\n",
    "    allround = dict()\n",
    "    for count in range(4):\n",
    "        df = pd.DataFrame(AllRounder.groupby('Season Year+2'))[1][count]\n",
    "        Season = pd.DataFrame(AllRounder.groupby('Season Year+2'))[0][count]\n",
    "        InputToOutput(df,AllRoundBudgetDict[str(Season)], 9, 1000000)[1].to_excel(writer, sheet_name=str(Season))\n",
    "#         plt.scatter(np.arange(len(InputToOutput(df,AllRoundBudgetDict[str(Season)], 9, 1000000)[1])), InputToOutput(df,AllRoundBudgetDict[str(Season)], 9, 1000000)[1], alpha = 0.8)\n",
    "#         plt.show()\n",
    "        allround[Season] = InputToOutput(df,AllRoundBudgetDict[str(Season)], 9, 1000000)[2]\n",
    "print(allround)"
   ]
  },
  {
   "cell_type": "code",
   "execution_count": 27,
   "metadata": {},
   "outputs": [
    {
     "data": {
      "text/plain": [
       "0              Player Name  Season Year+2  IPL Pts ...\n",
       "1             Player Name  Season Year+2  IPL Pts p...\n",
       "2             Player Name  Season Year+2  IPL Pts p...\n",
       "3             Player Name  Season Year+2  IPL Pts p...\n",
       "Name: 1, dtype: object"
      ]
     },
     "execution_count": 27,
     "metadata": {},
     "output_type": "execute_result"
    }
   ],
   "source": [
    "pd.DataFrame(AllRounder.groupby('Season Year+2'))[1]"
   ]
  },
  {
   "cell_type": "code",
   "execution_count": null,
   "metadata": {},
   "outputs": [],
   "source": []
  },
  {
   "cell_type": "code",
   "execution_count": 9,
   "metadata": {},
   "outputs": [],
   "source": [
    "def Coolio():\n",
    "    table = pd.read_excel('IPL_Teams_DivisionRoles.xlsx', header =20)\n",
    "        \n",
    "    Batsman = pd.read_excel('BatsmanPredictedandActualFinal.xlsx')\n",
    "    Bowler = pd.read_excel('BowlerPredictedandActualFinal.xlsx')\n",
    "    AllRounder = pd.read_excel('AllRounderPredictedandActualFinal.xlsx')\n",
    "    \n",
    "    for index in range(len(table.columns)):\n",
    "        for count in range(len(table)):\n",
    "            if str(table[table.columns[index]][count]).strip() == \"Batsman\":\n",
    "                BatBudgetDict['2020'] = table[table.columns[index+3]][count]\n",
    "                BatBudgetDict['2019'] = table[table.columns[index+4]][count]\n",
    "                BatBudgetDict['2018'] = table[table.columns[index+5]][count]\n",
    "                BatBudgetDict['2017'] = table[table.columns[index+6]][count]\n",
    "                BatBudgetDict['2016'] = table[table.columns[index+7]][count]\n",
    "                BatBudgetDict['2015'] = table[table.columns[index+8]][count]\n",
    "                BatBudgetDict['2014'] = table[table.columns[index+9]][count]\n",
    "\n",
    "            if str(table[table.columns[index]][count]).strip() == \"Bowler\":\n",
    "                BowlBudgetDict['2020'] = table[table.columns[index+3]][count]\n",
    "                BowlBudgetDict['2019'] = table[table.columns[index+4]][count]\n",
    "                BowlBudgetDict['2018'] = table[table.columns[index+5]][count]\n",
    "                BowlBudgetDict['2017'] = table[table.columns[index+6]][count]\n",
    "                BowlBudgetDict['2016'] = table[table.columns[index+7]][count]\n",
    "                BowlBudgetDict['2015'] = table[table.columns[index+8]][count]\n",
    "                BowlBudgetDict['2014'] = table[table.columns[index+9]][count]\n",
    "\n",
    "            if str(table[table.columns[index]][count]).strip() == \"All Rounder\":\n",
    "                AllRoundBudgetDict['2020'] = table[table.columns[index+3]][count]\n",
    "                AllRoundBudgetDict['2019'] = table[table.columns[index+4]][count]\n",
    "                AllRoundBudgetDict['2018'] = table[table.columns[index+5]][count]\n",
    "                AllRoundBudgetDict['2017'] = table[table.columns[index+6]][count]\n",
    "                AllRoundBudgetDict['2016'] = table[table.columns[index+7]][count]\n",
    "                AllRoundBudgetDict['2015'] = table[table.columns[index+8]][count]\n",
    "                AllRoundBudgetDict['2014'] = table[table.columns[index+9]][count]\n",
    "    \n",
    "    with pd.ExcelWriter('Year_WiseBatsmanSalaryPredicted.xlsx') as writer:\n",
    "        batsmandict = dict()\n",
    "        for count in range(4):\n",
    "            df = pd.DataFrame(Batsman.groupby('Season Year+2'))[1][count]\n",
    "            Season = pd.DataFrame(Batsman.groupby('Season Year+2'))[0][count]\n",
    "            InputToOutput(df,BatBudgetDict[str(Season)], 8, 1000000)[0].to_excel(writer, sheet_name=str(Season))\n",
    "#             plt.scatter(np.arange(len(InputToOutput(df,BatBudgetDict[str(Season)], 8, 1000000)[1])), InputToOutput(df,BatBudgetDict[str(Season)], 8, 1000000)[1], alpha = 0.8)\n",
    "#             plt.show()\n",
    "            batsmandict[Season] = InputToOutput(df,BatBudgetDict[str(Season)], 8, 1000000)[2]\n",
    "        print('Batsman ' + str(batsmandict))\n",
    "    \n",
    "    with pd.ExcelWriter('Year_WiseBowlerSalaryPredicted.xlsx') as writer:\n",
    "        bowldict = dict()\n",
    "        for count in range(4):\n",
    "            df = pd.DataFrame(Bowler.groupby('Season Year+2'))[1][count]\n",
    "            Season = pd.DataFrame(Bowler.groupby('Season Year+2'))[0][count]\n",
    "            InputToOutput(df,BowlBudgetDict[str(Season)], 10, 1000000)[0].to_excel(writer, sheet_name=str(Season))\n",
    "#             plt.scatter(np.arange(len(InputToOutput(df,BowlBudgetDict[str(Season)], 10, 1000000)[1])), InputToOutput(df,BowlBudgetDict[str(Season)], 10, 1000000)[1], alpha = 0.8)\n",
    "#             plt.show()\n",
    "            bowldict[Season] = InputToOutput(df,BowlBudgetDict[str(Season)], 10, 1000000)[2]\n",
    "        print('Bowler' + str(bowldict))\n",
    "    \n",
    "    with pd.ExcelWriter('Year_WiseAllRounderSalaryPredicted.xlsx') as writer:\n",
    "        allround = dict()\n",
    "        for count in range(4):\n",
    "            df = pd.DataFrame(AllRounder.groupby('Season Year+2'))[1][count]\n",
    "            Season = pd.DataFrame(AllRounder.groupby('Season Year+2'))[0][count]\n",
    "            InputToOutput(df,AllRoundBudgetDict[str(Season)], 9, 1000000)[0].to_excel(writer, sheet_name=str(Season))\n",
    "#             plt.scatter(np.arange(len(InputToOutput(df,AllRoundBudgetDict[str(Season)], 9, 1000000)[1])), InputToOutput(df,AllRoundBudgetDict[str(Season)], 9, 1000000)[1], alpha = 0.8)\n",
    "#             plt.show()\n",
    "            allround[Season] = InputToOutput(df,AllRoundBudgetDict[str(Season)], 9, 1000000)[2]\n",
    "        print('All Rounder' + str(allround))"
   ]
  },
  {
   "cell_type": "code",
   "execution_count": 11,
   "metadata": {},
   "outputs": [
    {
     "name": "stderr",
     "output_type": "stream",
     "text": [
      "/opt/anaconda3/lib/python3.7/site-packages/ipykernel_launcher.py:7: SettingWithCopyWarning: \n",
      "A value is trying to be set on a copy of a slice from a DataFrame\n",
      "\n",
      "See the caveats in the documentation: https://pandas.pydata.org/pandas-docs/stable/user_guide/indexing.html#returning-a-view-versus-a-copy\n",
      "  import sys\n",
      "/opt/anaconda3/lib/python3.7/site-packages/ipykernel_launcher.py:9: SettingWithCopyWarning: \n",
      "A value is trying to be set on a copy of a slice from a DataFrame\n",
      "\n",
      "See the caveats in the documentation: https://pandas.pydata.org/pandas-docs/stable/user_guide/indexing.html#returning-a-view-versus-a-copy\n",
      "  if __name__ == '__main__':\n",
      "/opt/anaconda3/lib/python3.7/site-packages/ipykernel_launcher.py:16: SettingWithCopyWarning: \n",
      "A value is trying to be set on a copy of a slice from a DataFrame\n",
      "\n",
      "See the caveats in the documentation: https://pandas.pydata.org/pandas-docs/stable/user_guide/indexing.html#returning-a-view-versus-a-copy\n",
      "  app.launch_new_instance()\n",
      "/opt/anaconda3/lib/python3.7/site-packages/ipykernel_launcher.py:17: SettingWithCopyWarning: \n",
      "A value is trying to be set on a copy of a slice from a DataFrame\n",
      "\n",
      "See the caveats in the documentation: https://pandas.pydata.org/pandas-docs/stable/user_guide/indexing.html#returning-a-view-versus-a-copy\n"
     ]
    },
    {
     "name": "stdout",
     "output_type": "stream",
     "text": [
      "Batsman {2015: 0.22940325959320293, 2016: 0.05069035050637936, 2017: -0.48529880761299, 2018: 0.3292284173483355}\n",
      "Bowler{2015: -0.08792753619727924, 2016: -0.8639762068253483, 2017: -1.2338324395356475, 2018: 0.16847861868847627}\n",
      "All Rounder{2015: -0.027340299002773568, 2016: -1.4493937729598312, 2017: -1.4841226719388776, 2018: -0.12354092623699499}\n"
     ]
    }
   ],
   "source": [
    "Coolio()"
   ]
  },
  {
   "cell_type": "code",
   "execution_count": null,
   "metadata": {},
   "outputs": [],
   "source": []
  },
  {
   "cell_type": "code",
   "execution_count": null,
   "metadata": {},
   "outputs": [],
   "source": []
  },
  {
   "cell_type": "code",
   "execution_count": null,
   "metadata": {},
   "outputs": [],
   "source": []
  }
 ],
 "metadata": {
  "kernelspec": {
   "display_name": "Python 3",
   "language": "python",
   "name": "python3"
  },
  "language_info": {
   "codemirror_mode": {
    "name": "ipython",
    "version": 3
   },
   "file_extension": ".py",
   "mimetype": "text/x-python",
   "name": "python",
   "nbconvert_exporter": "python",
   "pygments_lexer": "ipython3",
   "version": "3.7.6"
  }
 },
 "nbformat": 4,
 "nbformat_minor": 4
}

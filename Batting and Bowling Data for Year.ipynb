{
 "cells": [
  {
   "cell_type": "code",
   "execution_count": 1,
   "metadata": {},
   "outputs": [],
   "source": [
    "import numpy as np\n",
    "import pandas as pd\n",
    "from pandas_datareader import data, wb"
   ]
  },
  {
   "cell_type": "code",
   "execution_count": 14,
   "metadata": {},
   "outputs": [],
   "source": [
    "list_batting = ['most-runs', 'highest-scores', 'most-runs-over', 'most-fours', 'most-sixes',\n",
    "                'fastest-fifties', 'best-batting-strike-rate', 'best-batting-average']\n"
   ]
  },
  {
   "cell_type": "code",
   "execution_count": 18,
   "metadata": {},
   "outputs": [],
   "source": [
    "def obtain_batting_data_year(year):\n",
    "    basic_link = 'https://www.iplt20.com/stats/' + str(year) + '/'\n",
    "    data = pd.read_html(basic_link + list_batting[0])\n",
    "    df1 = data[0]\n",
    "    \n",
    "    highestscores = pd.read_html(basic_link + list_batting[1])\n",
    "    df2 = highestscores[0]\n",
    "    \n",
    "    mostrunsover = pd.read_html(basic_link + list_batting[2])\n",
    "    df3 = mostrunsover[0]\n",
    "    \n",
    "    mostfours = pd.read_html(basic_link + list_batting[3])\n",
    "    df4 = mostfours[0]\n",
    "    \n",
    "    mostsixes = pd.read_html(basic_link + list_batting[4])\n",
    "    df5 = mostsixes[0]\n",
    "\n",
    "    fastest50s = pd.read_html(basic_link + list_batting[5])\n",
    "    df6 = fastest50s[0].drop(['Against', 'Venue','6s', '4s', 'Runs'], axis = 1)\n",
    "    \n",
    "    bestbatSR = pd.read_html(basic_link + list_batting[6])\n",
    "    df7 = bestbatSR[0]\n",
    "    \n",
    "    bestbatA = pd.read_html(basic_link + list_batting[7])\n",
    "    df8 = bestbatA[0]\n",
    "\n",
    "    writer = pd.ExcelWriter(str(year) + ' Batting.xlsx')\n",
    "    df1.to_excel(writer, 'Most Runs')\n",
    "    df2.to_excel(writer, 'Highest Score in a game')\n",
    "    df3.to_excel(writer, 'Most Runs (Over)')\n",
    "    df4.to_excel(writer, 'Most Fours')\n",
    "    df5.to_excel(writer, 'Most Sixes')\n",
    "    df6.to_excel(writer, 'Fastest 50s')\n",
    "    df7.to_excel(writer, 'Best Batting Strike Rate')\n",
    "    df8.to_excel(writer, 'Best Batting Average')\n",
    "    writer.save()"
   ]
  },
  {
   "cell_type": "code",
   "execution_count": 21,
   "metadata": {},
   "outputs": [],
   "source": [
    "obtain_batting_data_year(2015)"
   ]
  },
  {
   "cell_type": "code",
   "execution_count": 24,
   "metadata": {},
   "outputs": [],
   "source": [
    "for year in range(2013,2020):\n",
    "    obtain_batting_data_year(year)"
   ]
  },
  {
   "cell_type": "code",
   "execution_count": 25,
   "metadata": {},
   "outputs": [],
   "source": [
    "list_bowling = ['most-wickets', 'most-maidens', 'most-dot-balls','best-bowling-average', 'best-bowling-economy', \n",
    "                'best-bowling-strike-rate', 'most-hat-tricks', 'most-four-wickets', 'player-points']"
   ]
  },
  {
   "cell_type": "code",
   "execution_count": 26,
   "metadata": {},
   "outputs": [],
   "source": [
    "def obtain_bowling_data_year(year):\n",
    "    basic_link = 'https://www.iplt20.com/stats/' + str(year) + '/'\n",
    "    mostwickets = pd.read_html(basic_link + list_bowling[0])\n",
    "    df1 = mostwickets[0]\n",
    "    \n",
    "    mostmaidens = pd.read_html(basic_link + list_bowling[1])\n",
    "    df2 = mostmaidens[0]\n",
    "    \n",
    "    mostdotballs = pd.read_html(basic_link + list_bowling[2])\n",
    "    df3 = mostdotballs[0]\n",
    "    \n",
    "    bestbowlingavg = pd.read_html(basic_link + list_bowling[3])\n",
    "    df4 = bestbowlingavg[0]\n",
    "    \n",
    "    bestbowlingecon = pd.read_html(basic_link + list_bowling[4])\n",
    "    df5 = bestbowlingecon[0]\n",
    "    \n",
    "    bestbowlingsr = pd.read_html(basic_link + list_bowling[5])\n",
    "    df6 = bestbowlingsr[0]\n",
    "    \n",
    "    mosthattricks = pd.read_html(basic_link + list_bowling[6])\n",
    "    df7 = mosthattricks[0]\n",
    "    \n",
    "    fourwickets = pd.read_html(basic_link + list_bowling[7])\n",
    "    df8 = fourwickets[0]\n",
    "    \n",
    "    playerpoints = pd.read_html(basic_link + list_bowling[8])\n",
    "    df9 = playerpoints[0]\n",
    "    \n",
    "    writer1 = pd.ExcelWriter(str(year) + ' Bowling.xlsx')\n",
    "    df1.to_excel(writer1, 'Most Wickets')\n",
    "    df2.to_excel(writer1, 'Most Maidens')\n",
    "    df3.to_excel(writer1, 'Most Dot Balls')\n",
    "    df4.to_excel(writer1, 'Best Bowling Average')\n",
    "    df5.to_excel(writer1, 'Best Bowling Economy')\n",
    "    df6.to_excel(writer1, 'Best Bowling Strike Rate')\n",
    "    df7.to_excel(writer1, 'Most Hat Tricks')\n",
    "    df8.to_excel(writer1, 'Four Wickets')\n",
    "    df9.to_excel(writer1, 'Player Points')\n",
    "    writer1.save()"
   ]
  },
  {
   "cell_type": "code",
   "execution_count": 29,
   "metadata": {},
   "outputs": [],
   "source": [
    "obtain_bowling_data_year(2013)"
   ]
  },
  {
   "cell_type": "code",
   "execution_count": 30,
   "metadata": {},
   "outputs": [],
   "source": [
    "obtain_bowling_data_year(2014)"
   ]
  },
  {
   "cell_type": "code",
   "execution_count": 32,
   "metadata": {},
   "outputs": [],
   "source": [
    "obtain_bowling_data_year(2016)"
   ]
  },
  {
   "cell_type": "code",
   "execution_count": 33,
   "metadata": {},
   "outputs": [],
   "source": [
    "obtain_bowling_data_year(2017)"
   ]
  },
  {
   "cell_type": "code",
   "execution_count": 34,
   "metadata": {},
   "outputs": [
    {
     "ename": "ValueError",
     "evalue": "No tables found",
     "output_type": "error",
     "traceback": [
      "\u001b[0;31m---------------------------------------------------------------------------\u001b[0m",
      "\u001b[0;31mValueError\u001b[0m                                Traceback (most recent call last)",
      "\u001b[0;32m<ipython-input-34-c73132da9ec1>\u001b[0m in \u001b[0;36m<module>\u001b[0;34m\u001b[0m\n\u001b[0;32m----> 1\u001b[0;31m \u001b[0mobtain_bowling_data_year\u001b[0m\u001b[0;34m(\u001b[0m\u001b[0;36m2018\u001b[0m\u001b[0;34m)\u001b[0m\u001b[0;34m\u001b[0m\u001b[0;34m\u001b[0m\u001b[0m\n\u001b[0m",
      "\u001b[0;32m<ipython-input-26-008429a467a0>\u001b[0m in \u001b[0;36mobtain_bowling_data_year\u001b[0;34m(year)\u001b[0m\n\u001b[1;32m     19\u001b[0m     \u001b[0mdf6\u001b[0m \u001b[0;34m=\u001b[0m \u001b[0mbestbowlingsr\u001b[0m\u001b[0;34m[\u001b[0m\u001b[0;36m0\u001b[0m\u001b[0;34m]\u001b[0m\u001b[0;34m\u001b[0m\u001b[0;34m\u001b[0m\u001b[0m\n\u001b[1;32m     20\u001b[0m \u001b[0;34m\u001b[0m\u001b[0m\n\u001b[0;32m---> 21\u001b[0;31m     \u001b[0mmosthattricks\u001b[0m \u001b[0;34m=\u001b[0m \u001b[0mpd\u001b[0m\u001b[0;34m.\u001b[0m\u001b[0mread_html\u001b[0m\u001b[0;34m(\u001b[0m\u001b[0mbasic_link\u001b[0m \u001b[0;34m+\u001b[0m \u001b[0mlist_bowling\u001b[0m\u001b[0;34m[\u001b[0m\u001b[0;36m6\u001b[0m\u001b[0;34m]\u001b[0m\u001b[0;34m)\u001b[0m\u001b[0;34m\u001b[0m\u001b[0;34m\u001b[0m\u001b[0m\n\u001b[0m\u001b[1;32m     22\u001b[0m     \u001b[0mdf7\u001b[0m \u001b[0;34m=\u001b[0m \u001b[0mmosthattricks\u001b[0m\u001b[0;34m[\u001b[0m\u001b[0;36m0\u001b[0m\u001b[0;34m]\u001b[0m\u001b[0;34m\u001b[0m\u001b[0;34m\u001b[0m\u001b[0m\n\u001b[1;32m     23\u001b[0m \u001b[0;34m\u001b[0m\u001b[0m\n",
      "\u001b[0;32m/opt/anaconda3/lib/python3.7/site-packages/pandas/io/html.py\u001b[0m in \u001b[0;36mread_html\u001b[0;34m(io, match, flavor, header, index_col, skiprows, attrs, parse_dates, thousands, encoding, decimal, converters, na_values, keep_default_na, displayed_only)\u001b[0m\n\u001b[1;32m   1103\u001b[0m         \u001b[0mna_values\u001b[0m\u001b[0;34m=\u001b[0m\u001b[0mna_values\u001b[0m\u001b[0;34m,\u001b[0m\u001b[0;34m\u001b[0m\u001b[0;34m\u001b[0m\u001b[0m\n\u001b[1;32m   1104\u001b[0m         \u001b[0mkeep_default_na\u001b[0m\u001b[0;34m=\u001b[0m\u001b[0mkeep_default_na\u001b[0m\u001b[0;34m,\u001b[0m\u001b[0;34m\u001b[0m\u001b[0;34m\u001b[0m\u001b[0m\n\u001b[0;32m-> 1105\u001b[0;31m         \u001b[0mdisplayed_only\u001b[0m\u001b[0;34m=\u001b[0m\u001b[0mdisplayed_only\u001b[0m\u001b[0;34m,\u001b[0m\u001b[0;34m\u001b[0m\u001b[0;34m\u001b[0m\u001b[0m\n\u001b[0m\u001b[1;32m   1106\u001b[0m     )\n",
      "\u001b[0;32m/opt/anaconda3/lib/python3.7/site-packages/pandas/io/html.py\u001b[0m in \u001b[0;36m_parse\u001b[0;34m(flavor, io, match, attrs, encoding, displayed_only, **kwargs)\u001b[0m\n\u001b[1;32m    910\u001b[0m             \u001b[0;32mbreak\u001b[0m\u001b[0;34m\u001b[0m\u001b[0;34m\u001b[0m\u001b[0m\n\u001b[1;32m    911\u001b[0m     \u001b[0;32melse\u001b[0m\u001b[0;34m:\u001b[0m\u001b[0;34m\u001b[0m\u001b[0;34m\u001b[0m\u001b[0m\n\u001b[0;32m--> 912\u001b[0;31m         \u001b[0mraise_with_traceback\u001b[0m\u001b[0;34m(\u001b[0m\u001b[0mretained\u001b[0m\u001b[0;34m)\u001b[0m\u001b[0;34m\u001b[0m\u001b[0;34m\u001b[0m\u001b[0m\n\u001b[0m\u001b[1;32m    913\u001b[0m \u001b[0;34m\u001b[0m\u001b[0m\n\u001b[1;32m    914\u001b[0m     \u001b[0mret\u001b[0m \u001b[0;34m=\u001b[0m \u001b[0;34m[\u001b[0m\u001b[0;34m]\u001b[0m\u001b[0;34m\u001b[0m\u001b[0;34m\u001b[0m\u001b[0m\n",
      "\u001b[0;32m/opt/anaconda3/lib/python3.7/site-packages/pandas/compat/__init__.py\u001b[0m in \u001b[0;36mraise_with_traceback\u001b[0;34m(exc, traceback)\u001b[0m\n\u001b[1;32m     44\u001b[0m     \u001b[0;32mif\u001b[0m \u001b[0mtraceback\u001b[0m \u001b[0;34m==\u001b[0m \u001b[0mEllipsis\u001b[0m\u001b[0;34m:\u001b[0m\u001b[0;34m\u001b[0m\u001b[0;34m\u001b[0m\u001b[0m\n\u001b[1;32m     45\u001b[0m         \u001b[0m_\u001b[0m\u001b[0;34m,\u001b[0m \u001b[0m_\u001b[0m\u001b[0;34m,\u001b[0m \u001b[0mtraceback\u001b[0m \u001b[0;34m=\u001b[0m \u001b[0msys\u001b[0m\u001b[0;34m.\u001b[0m\u001b[0mexc_info\u001b[0m\u001b[0;34m(\u001b[0m\u001b[0;34m)\u001b[0m\u001b[0;34m\u001b[0m\u001b[0;34m\u001b[0m\u001b[0m\n\u001b[0;32m---> 46\u001b[0;31m     \u001b[0;32mraise\u001b[0m \u001b[0mexc\u001b[0m\u001b[0;34m.\u001b[0m\u001b[0mwith_traceback\u001b[0m\u001b[0;34m(\u001b[0m\u001b[0mtraceback\u001b[0m\u001b[0;34m)\u001b[0m\u001b[0;34m\u001b[0m\u001b[0;34m\u001b[0m\u001b[0m\n\u001b[0m\u001b[1;32m     47\u001b[0m \u001b[0;34m\u001b[0m\u001b[0m\n\u001b[1;32m     48\u001b[0m \u001b[0;34m\u001b[0m\u001b[0m\n",
      "\u001b[0;31mValueError\u001b[0m: No tables found"
     ]
    }
   ],
   "source": [
    "obtain_bowling_data_year(2018)"
   ]
  },
  {
   "cell_type": "code",
   "execution_count": 36,
   "metadata": {},
   "outputs": [],
   "source": [
    "def obtain_bowling_data_year1(year):\n",
    "    basic_link = 'https://www.iplt20.com/stats/' + str(year) + '/'\n",
    "    mostwickets = pd.read_html(basic_link + list_bowling[0])\n",
    "    df1 = mostwickets[0]\n",
    "    \n",
    "    mostmaidens = pd.read_html(basic_link + list_bowling[1])\n",
    "    df2 = mostmaidens[0]\n",
    "    \n",
    "    mostdotballs = pd.read_html(basic_link + list_bowling[2])\n",
    "    df3 = mostdotballs[0]\n",
    "    \n",
    "    bestbowlingavg = pd.read_html(basic_link + list_bowling[3])\n",
    "    df4 = bestbowlingavg[0]\n",
    "    \n",
    "    bestbowlingecon = pd.read_html(basic_link + list_bowling[4])\n",
    "    df5 = bestbowlingecon[0]\n",
    "    \n",
    "    bestbowlingsr = pd.read_html(basic_link + list_bowling[5])\n",
    "    df6 = bestbowlingsr[0]\n",
    "    \n",
    "    fourwickets = pd.read_html(basic_link + list_bowling[7])\n",
    "    df8 = fourwickets[0]\n",
    "    \n",
    "    playerpoints = pd.read_html(basic_link + list_bowling[8])\n",
    "    df9 = playerpoints[0]\n",
    "    \n",
    "    writer1 = pd.ExcelWriter(str(year) + ' Bowling.xlsx')\n",
    "    df1.to_excel(writer1, 'Most Wickets')\n",
    "    df2.to_excel(writer1, 'Most Maidens')\n",
    "    df3.to_excel(writer1, 'Most Dot Balls')\n",
    "    df4.to_excel(writer1, 'Best Bowling Average')\n",
    "    df5.to_excel(writer1, 'Best Bowling Economy')\n",
    "    df6.to_excel(writer1, 'Best Bowling Strike Rate')\n",
    "    df8.to_excel(writer1, 'Four Wickets')\n",
    "    df9.to_excel(writer1, 'Player Points')\n",
    "    writer1.save()"
   ]
  },
  {
   "cell_type": "code",
   "execution_count": 37,
   "metadata": {},
   "outputs": [],
   "source": [
    "obtain_bowling_data_year1(2015)"
   ]
  },
  {
   "cell_type": "code",
   "execution_count": 38,
   "metadata": {},
   "outputs": [],
   "source": [
    "obtain_bowling_data_year1(2018)"
   ]
  },
  {
   "cell_type": "code",
   "execution_count": null,
   "metadata": {},
   "outputs": [],
   "source": []
  }
 ],
 "metadata": {
  "kernelspec": {
   "display_name": "Python 3",
   "language": "python",
   "name": "python3"
  },
  "language_info": {
   "codemirror_mode": {
    "name": "ipython",
    "version": 3
   },
   "file_extension": ".py",
   "mimetype": "text/x-python",
   "name": "python",
   "nbconvert_exporter": "python",
   "pygments_lexer": "ipython3",
   "version": "3.7.4"
  }
 },
 "nbformat": 4,
 "nbformat_minor": 2
}

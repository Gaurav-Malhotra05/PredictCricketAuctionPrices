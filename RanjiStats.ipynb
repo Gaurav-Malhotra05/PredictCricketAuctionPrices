{
 "cells": [
  {
   "cell_type": "code",
   "execution_count": 1,
   "metadata": {},
   "outputs": [],
   "source": [
    "import numpy as np\n",
    "import pandas as pd"
   ]
  },
  {
   "cell_type": "code",
   "execution_count": 2,
   "metadata": {},
   "outputs": [],
   "source": [
    "R_2019_Batsman = pd.read_html('https://stats.espncricinfo.com/ci/engine/records/batting/most_runs_career.html?id=13223;type=tournament')"
   ]
  },
  {
   "cell_type": "code",
   "execution_count": 7,
   "metadata": {},
   "outputs": [],
   "source": [
    "R_2019_Batsman = R_2019_Batsman[0]"
   ]
  },
  {
   "cell_type": "code",
   "execution_count": 9,
   "metadata": {},
   "outputs": [],
   "source": [
    "for rows in range(len(R_2019_Batsman)):\n",
    "    if rows%2 != 0:\n",
    "        R_2019_Batsman.drop(index = rows, inplace = True)"
   ]
  },
  {
   "cell_type": "code",
   "execution_count": 12,
   "metadata": {},
   "outputs": [],
   "source": [
    "R_2019_Batsman.reset_index(inplace = True)"
   ]
  },
  {
   "cell_type": "code",
   "execution_count": 14,
   "metadata": {},
   "outputs": [],
   "source": [
    "R_2019_Batsman.drop('index', axis = 1, inplace = True)"
   ]
  },
  {
   "cell_type": "code",
   "execution_count": 16,
   "metadata": {},
   "outputs": [],
   "source": [
    "R_2019_Batsman.to_excel('2019RanjiBatsmanStats.xlsx')"
   ]
  },
  {
   "cell_type": "code",
   "execution_count": 17,
   "metadata": {},
   "outputs": [],
   "source": [
    "def Extracting_Ranji_Stats(Year, Link, Role):\n",
    "    R_2019_Batsman = pd.read_html(Link)\n",
    "    R_2019_Batsman = R_2019_Batsman[0]\n",
    "    for rows in range(len(R_2019_Batsman)):\n",
    "        if rows%2 != 0:\n",
    "            R_2019_Batsman.drop(index = rows, inplace = True)\n",
    "    R_2019_Batsman.reset_index(inplace = True)\n",
    "    R_2019_Batsman.drop('index', axis = 1, inplace = True)\n",
    "    R_2019_Batsman.to_excel(str(Year)+'Ranji'+str(Role)+'Stats.xlsx')"
   ]
  },
  {
   "cell_type": "code",
   "execution_count": null,
   "metadata": {},
   "outputs": [],
   "source": []
  },
  {
   "cell_type": "code",
   "execution_count": null,
   "metadata": {},
   "outputs": [],
   "source": []
  }
 ],
 "metadata": {
  "kernelspec": {
   "display_name": "Python 3",
   "language": "python",
   "name": "python3"
  },
  "language_info": {
   "codemirror_mode": {
    "name": "ipython",
    "version": 3
   },
   "file_extension": ".py",
   "mimetype": "text/x-python",
   "name": "python",
   "nbconvert_exporter": "python",
   "pygments_lexer": "ipython3",
   "version": "3.7.6"
  }
 },
 "nbformat": 4,
 "nbformat_minor": 4
}
